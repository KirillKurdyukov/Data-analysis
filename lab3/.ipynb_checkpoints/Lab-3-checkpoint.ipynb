{
 "cells": [
  {
   "cell_type": "markdown",
   "id": "twenty-training",
   "metadata": {},
   "source": [
    "# Меня ждут миллионы\n",
    "\n",
    "Обучите простую модель предсказания цены акций. Используйте один из рассмотренных на лекции \"Временные последовательности\" алгоритмов предсказания рядов. Можно использовать и более сложные алгоритмы предсказания рядов\n",
    "\n",
    "\n",
    "1. Найдите данные о цене любого биржевого актива\n",
    "\n",
    "    Данные должны содержать значение цены актива как минимум за каждый день и длительностю как минимум за год. \n",
    "\n",
    "    Найти данные можно на kaggle или использовать FAANG датасет из 1 лабораторной\n",
    "\n",
    "\n",
    "2. Предобработайте данные\n",
    "\n",
    "    Временной ряд сложно предсказывать по дням. Сделайте ряд по неделям или месяцам\n",
    "   \n",
    "    Удалите из ряда тренд, если он есть. Используйте другие рассмотренные на лекции приёмы\n",
    "\n",
    "\n",
    "3. Обучите модель\n",
    "    \n",
    "    Обучите модель на 80% временного ряда\n",
    "    \n",
    "    Предскажите оставшиеся 20% (как минимум 3 точки) ряда с помощью модели \n",
    "    \n",
    "    Отобразите на графике предсказание модели и истинные данные\n",
    "\n",
    "\n",
    "4. Посчитайте метрику\n",
    "\n",
    "    Метрика должна отражать разницу между предсказанными и истинными данными. Можно выбрать меру MAPE, можно предложить свою"
   ]
  },
  {
   "cell_type": "code",
   "execution_count": 16,
   "id": "quarterly-tumor",
   "metadata": {},
   "outputs": [
    {
     "data": {
      "text/html": [
       "<div>\n",
       "<style scoped>\n",
       "    .dataframe tbody tr th:only-of-type {\n",
       "        vertical-align: middle;\n",
       "    }\n",
       "\n",
       "    .dataframe tbody tr th {\n",
       "        vertical-align: top;\n",
       "    }\n",
       "\n",
       "    .dataframe thead th {\n",
       "        text-align: right;\n",
       "    }\n",
       "</style>\n",
       "<table border=\"1\" class=\"dataframe\">\n",
       "  <thead>\n",
       "    <tr style=\"text-align: right;\">\n",
       "      <th></th>\n",
       "      <th>Date</th>\n",
       "      <th>Open</th>\n",
       "      <th>High</th>\n",
       "      <th>Low</th>\n",
       "      <th>Close</th>\n",
       "      <th>Adj Close</th>\n",
       "      <th>Volume</th>\n",
       "    </tr>\n",
       "  </thead>\n",
       "  <tbody>\n",
       "    <tr>\n",
       "      <th>0</th>\n",
       "      <td>2016-03-28</td>\n",
       "      <td>736.789978</td>\n",
       "      <td>738.989990</td>\n",
       "      <td>732.500000</td>\n",
       "      <td>733.530029</td>\n",
       "      <td>733.530029</td>\n",
       "      <td>1301300</td>\n",
       "    </tr>\n",
       "    <tr>\n",
       "      <th>1</th>\n",
       "      <td>2016-03-29</td>\n",
       "      <td>734.590027</td>\n",
       "      <td>747.250000</td>\n",
       "      <td>728.760010</td>\n",
       "      <td>744.770020</td>\n",
       "      <td>744.770020</td>\n",
       "      <td>1903800</td>\n",
       "    </tr>\n",
       "    <tr>\n",
       "      <th>2</th>\n",
       "      <td>2016-03-30</td>\n",
       "      <td>750.099976</td>\n",
       "      <td>757.880005</td>\n",
       "      <td>748.739990</td>\n",
       "      <td>750.530029</td>\n",
       "      <td>750.530029</td>\n",
       "      <td>1782400</td>\n",
       "    </tr>\n",
       "    <tr>\n",
       "      <th>3</th>\n",
       "      <td>2016-03-31</td>\n",
       "      <td>749.250000</td>\n",
       "      <td>750.849976</td>\n",
       "      <td>740.940002</td>\n",
       "      <td>744.950012</td>\n",
       "      <td>744.950012</td>\n",
       "      <td>1718800</td>\n",
       "    </tr>\n",
       "    <tr>\n",
       "      <th>4</th>\n",
       "      <td>2016-04-01</td>\n",
       "      <td>738.599976</td>\n",
       "      <td>750.340027</td>\n",
       "      <td>737.000000</td>\n",
       "      <td>749.909973</td>\n",
       "      <td>749.909973</td>\n",
       "      <td>1576700</td>\n",
       "    </tr>\n",
       "    <tr>\n",
       "      <th>5</th>\n",
       "      <td>2016-04-04</td>\n",
       "      <td>750.059998</td>\n",
       "      <td>752.799988</td>\n",
       "      <td>742.429993</td>\n",
       "      <td>745.289978</td>\n",
       "      <td>745.289978</td>\n",
       "      <td>1134200</td>\n",
       "    </tr>\n",
       "    <tr>\n",
       "      <th>6</th>\n",
       "      <td>2016-04-05</td>\n",
       "      <td>738.000000</td>\n",
       "      <td>742.799988</td>\n",
       "      <td>735.369995</td>\n",
       "      <td>737.799988</td>\n",
       "      <td>737.799988</td>\n",
       "      <td>1132300</td>\n",
       "    </tr>\n",
       "    <tr>\n",
       "      <th>7</th>\n",
       "      <td>2016-04-06</td>\n",
       "      <td>735.770020</td>\n",
       "      <td>746.239990</td>\n",
       "      <td>735.559998</td>\n",
       "      <td>745.690002</td>\n",
       "      <td>745.690002</td>\n",
       "      <td>1053700</td>\n",
       "    </tr>\n",
       "    <tr>\n",
       "      <th>8</th>\n",
       "      <td>2016-04-07</td>\n",
       "      <td>745.369995</td>\n",
       "      <td>747.000000</td>\n",
       "      <td>736.280029</td>\n",
       "      <td>740.280029</td>\n",
       "      <td>740.280029</td>\n",
       "      <td>1453200</td>\n",
       "    </tr>\n",
       "    <tr>\n",
       "      <th>9</th>\n",
       "      <td>2016-04-08</td>\n",
       "      <td>743.969971</td>\n",
       "      <td>745.450012</td>\n",
       "      <td>735.549988</td>\n",
       "      <td>739.150024</td>\n",
       "      <td>739.150024</td>\n",
       "      <td>1290800</td>\n",
       "    </tr>\n",
       "  </tbody>\n",
       "</table>\n",
       "</div>"
      ],
      "text/plain": [
       "         Date        Open        High         Low       Close   Adj Close  \\\n",
       "0  2016-03-28  736.789978  738.989990  732.500000  733.530029  733.530029   \n",
       "1  2016-03-29  734.590027  747.250000  728.760010  744.770020  744.770020   \n",
       "2  2016-03-30  750.099976  757.880005  748.739990  750.530029  750.530029   \n",
       "3  2016-03-31  749.250000  750.849976  740.940002  744.950012  744.950012   \n",
       "4  2016-04-01  738.599976  750.340027  737.000000  749.909973  749.909973   \n",
       "5  2016-04-04  750.059998  752.799988  742.429993  745.289978  745.289978   \n",
       "6  2016-04-05  738.000000  742.799988  735.369995  737.799988  737.799988   \n",
       "7  2016-04-06  735.770020  746.239990  735.559998  745.690002  745.690002   \n",
       "8  2016-04-07  745.369995  747.000000  736.280029  740.280029  740.280029   \n",
       "9  2016-04-08  743.969971  745.450012  735.549988  739.150024  739.150024   \n",
       "\n",
       "    Volume  \n",
       "0  1301300  \n",
       "1  1903800  \n",
       "2  1782400  \n",
       "3  1718800  \n",
       "4  1576700  \n",
       "5  1134200  \n",
       "6  1132300  \n",
       "7  1053700  \n",
       "8  1453200  \n",
       "9  1290800  "
      ]
     },
     "execution_count": 16,
     "metadata": {},
     "output_type": "execute_result"
    }
   ],
   "source": [
    "import pandas as pd\n",
    "\n",
    "google_price = pd.read_csv('./google_price.csv')\n",
    "google_price.head(10)"
   ]
  },
  {
   "cell_type": "code",
   "execution_count": 18,
   "id": "f8613c4a",
   "metadata": {},
   "outputs": [
    {
     "data": {
      "text/plain": [
       "Date         0\n",
       "Open         0\n",
       "High         0\n",
       "Low          0\n",
       "Close        0\n",
       "Adj Close    0\n",
       "Volume       0\n",
       "dtype: int64"
      ]
     },
     "execution_count": 18,
     "metadata": {},
     "output_type": "execute_result"
    }
   ],
   "source": [
    "google_price.isna().sum()"
   ]
  },
  {
   "cell_type": "code",
   "execution_count": 19,
   "id": "e1122f81",
   "metadata": {},
   "outputs": [
    {
     "name": "stdout",
     "output_type": "stream",
     "text": [
      "<class 'pandas.core.frame.DataFrame'>\n",
      "RangeIndex: 1260 entries, 0 to 1259\n",
      "Data columns (total 7 columns):\n",
      " #   Column     Non-Null Count  Dtype         \n",
      "---  ------     --------------  -----         \n",
      " 0   Date       1260 non-null   datetime64[ns]\n",
      " 1   Open       1260 non-null   float64       \n",
      " 2   High       1260 non-null   float64       \n",
      " 3   Low        1260 non-null   float64       \n",
      " 4   Close      1260 non-null   float64       \n",
      " 5   Adj Close  1260 non-null   float64       \n",
      " 6   Volume     1260 non-null   int64         \n",
      "dtypes: datetime64[ns](1), float64(5), int64(1)\n",
      "memory usage: 69.0 KB\n"
     ]
    }
   ],
   "source": [
    "google_price['Date'] = pd.to_datetime(google_price['Date'], format='%Y-%m-%d')\n",
    "\n",
    "google_price.info()"
   ]
  },
  {
   "cell_type": "code",
   "execution_count": 20,
   "id": "2ba171ac",
   "metadata": {},
   "outputs": [
    {
     "data": {
      "text/plain": [
       "(1260, 7)"
      ]
     },
     "execution_count": 20,
     "metadata": {},
     "output_type": "execute_result"
    }
   ],
   "source": [
    "google_price.shape"
   ]
  },
  {
   "cell_type": "raw",
   "id": "db916ee4",
   "metadata": {},
   "source": [
    "NaN'ов не замечено датасет акций компании гугл в порядке. Записи производились каждый день в течении 4 лет, что подходит условиям задачи."
   ]
  },
  {
   "cell_type": "code",
   "execution_count": 21,
   "id": "ffddbb63",
   "metadata": {},
   "outputs": [
    {
     "data": {
      "text/html": [
       "<div>\n",
       "<style scoped>\n",
       "    .dataframe tbody tr th:only-of-type {\n",
       "        vertical-align: middle;\n",
       "    }\n",
       "\n",
       "    .dataframe tbody tr th {\n",
       "        vertical-align: top;\n",
       "    }\n",
       "\n",
       "    .dataframe thead th {\n",
       "        text-align: right;\n",
       "    }\n",
       "</style>\n",
       "<table border=\"1\" class=\"dataframe\">\n",
       "  <thead>\n",
       "    <tr style=\"text-align: right;\">\n",
       "      <th></th>\n",
       "      <th>Date</th>\n",
       "      <th>High</th>\n",
       "    </tr>\n",
       "  </thead>\n",
       "  <tbody>\n",
       "    <tr>\n",
       "      <th>0</th>\n",
       "      <td>2016-03-28</td>\n",
       "      <td>738.989990</td>\n",
       "    </tr>\n",
       "    <tr>\n",
       "      <th>1</th>\n",
       "      <td>2016-03-29</td>\n",
       "      <td>747.250000</td>\n",
       "    </tr>\n",
       "    <tr>\n",
       "      <th>2</th>\n",
       "      <td>2016-03-30</td>\n",
       "      <td>757.880005</td>\n",
       "    </tr>\n",
       "    <tr>\n",
       "      <th>3</th>\n",
       "      <td>2016-03-31</td>\n",
       "      <td>750.849976</td>\n",
       "    </tr>\n",
       "    <tr>\n",
       "      <th>4</th>\n",
       "      <td>2016-04-01</td>\n",
       "      <td>750.340027</td>\n",
       "    </tr>\n",
       "  </tbody>\n",
       "</table>\n",
       "</div>"
      ],
      "text/plain": [
       "        Date        High\n",
       "0 2016-03-28  738.989990\n",
       "1 2016-03-29  747.250000\n",
       "2 2016-03-30  757.880005\n",
       "3 2016-03-31  750.849976\n",
       "4 2016-04-01  750.340027"
      ]
     },
     "execution_count": 21,
     "metadata": {},
     "output_type": "execute_result"
    }
   ],
   "source": [
    "google_price.drop(['Open', 'Low', 'Close', 'Adj Close', 'Volume'], axis=1, inplace = True)\n",
    "\n",
    "google_price.head()"
   ]
  },
  {
   "cell_type": "code",
   "execution_count": 23,
   "id": "75adbab1",
   "metadata": {},
   "outputs": [
    {
     "data": {
      "text/html": [
       "<div>\n",
       "<style scoped>\n",
       "    .dataframe tbody tr th:only-of-type {\n",
       "        vertical-align: middle;\n",
       "    }\n",
       "\n",
       "    .dataframe tbody tr th {\n",
       "        vertical-align: top;\n",
       "    }\n",
       "\n",
       "    .dataframe thead th {\n",
       "        text-align: right;\n",
       "    }\n",
       "</style>\n",
       "<table border=\"1\" class=\"dataframe\">\n",
       "  <thead>\n",
       "    <tr style=\"text-align: right;\">\n",
       "      <th></th>\n",
       "      <th>Date</th>\n",
       "      <th>High</th>\n",
       "    </tr>\n",
       "  </thead>\n",
       "  <tbody>\n",
       "    <tr>\n",
       "      <th>4</th>\n",
       "      <td>2016-04-01</td>\n",
       "      <td>750.340027</td>\n",
       "    </tr>\n",
       "    <tr>\n",
       "      <th>5</th>\n",
       "      <td>2016-04-04</td>\n",
       "      <td>752.799988</td>\n",
       "    </tr>\n",
       "    <tr>\n",
       "      <th>6</th>\n",
       "      <td>2016-04-05</td>\n",
       "      <td>742.799988</td>\n",
       "    </tr>\n",
       "    <tr>\n",
       "      <th>7</th>\n",
       "      <td>2016-04-06</td>\n",
       "      <td>746.239990</td>\n",
       "    </tr>\n",
       "    <tr>\n",
       "      <th>8</th>\n",
       "      <td>2016-04-07</td>\n",
       "      <td>747.000000</td>\n",
       "    </tr>\n",
       "  </tbody>\n",
       "</table>\n",
       "</div>"
      ],
      "text/plain": [
       "        Date        High\n",
       "4 2016-04-01  750.340027\n",
       "5 2016-04-04  752.799988\n",
       "6 2016-04-05  742.799988\n",
       "7 2016-04-06  746.239990\n",
       "8 2016-04-07  747.000000"
      ]
     },
     "execution_count": 23,
     "metadata": {},
     "output_type": "execute_result"
    }
   ],
   "source": [
    "google_price = google_price.tail(-4)\n",
    "\n",
    "google_price.head()"
   ]
  },
  {
   "cell_type": "code",
   "execution_count": 39,
   "id": "3d58e5a7",
   "metadata": {},
   "outputs": [
    {
     "data": {
      "text/html": [
       "<div>\n",
       "<style scoped>\n",
       "    .dataframe tbody tr th:only-of-type {\n",
       "        vertical-align: middle;\n",
       "    }\n",
       "\n",
       "    .dataframe tbody tr th {\n",
       "        vertical-align: top;\n",
       "    }\n",
       "\n",
       "    .dataframe thead th {\n",
       "        text-align: right;\n",
       "    }\n",
       "</style>\n",
       "<table border=\"1\" class=\"dataframe\">\n",
       "  <thead>\n",
       "    <tr style=\"text-align: right;\">\n",
       "      <th></th>\n",
       "      <th>Date</th>\n",
       "      <th>High</th>\n",
       "    </tr>\n",
       "  </thead>\n",
       "  <tbody>\n",
       "    <tr>\n",
       "      <th>0</th>\n",
       "      <td>2016-04-01</td>\n",
       "      <td>750.340027</td>\n",
       "    </tr>\n",
       "    <tr>\n",
       "      <th>1</th>\n",
       "      <td>2016-05-01</td>\n",
       "      <td>700.640015</td>\n",
       "    </tr>\n",
       "    <tr>\n",
       "      <th>2</th>\n",
       "      <td>2016-06-01</td>\n",
       "      <td>737.210022</td>\n",
       "    </tr>\n",
       "    <tr>\n",
       "      <th>3</th>\n",
       "      <td>2016-07-01</td>\n",
       "      <td>700.650024</td>\n",
       "    </tr>\n",
       "    <tr>\n",
       "      <th>4</th>\n",
       "      <td>2016-08-01</td>\n",
       "      <td>780.429993</td>\n",
       "    </tr>\n",
       "    <tr>\n",
       "      <th>5</th>\n",
       "      <td>2016-09-01</td>\n",
       "      <td>771.020020</td>\n",
       "    </tr>\n",
       "    <tr>\n",
       "      <th>6</th>\n",
       "      <td>2016-10-01</td>\n",
       "      <td>776.065002</td>\n",
       "    </tr>\n",
       "    <tr>\n",
       "      <th>7</th>\n",
       "      <td>2016-11-01</td>\n",
       "      <td>789.489990</td>\n",
       "    </tr>\n",
       "    <tr>\n",
       "      <th>8</th>\n",
       "      <td>2016-12-01</td>\n",
       "      <td>759.849976</td>\n",
       "    </tr>\n",
       "    <tr>\n",
       "      <th>9</th>\n",
       "      <td>2017-01-01</td>\n",
       "      <td>789.630005</td>\n",
       "    </tr>\n",
       "  </tbody>\n",
       "</table>\n",
       "</div>"
      ],
      "text/plain": [
       "         Date        High\n",
       "0  2016-04-01  750.340027\n",
       "1  2016-05-01  700.640015\n",
       "2  2016-06-01  737.210022\n",
       "3  2016-07-01  700.650024\n",
       "4  2016-08-01  780.429993\n",
       "5  2016-09-01  771.020020\n",
       "6  2016-10-01  776.065002\n",
       "7  2016-11-01  789.489990\n",
       "8  2016-12-01  759.849976\n",
       "9  2017-01-01  789.630005"
      ]
     },
     "execution_count": 39,
     "metadata": {},
     "output_type": "execute_result"
    }
   ],
   "source": [
    "import datetime\n",
    "last_month = -1\n",
    "\n",
    "df = pd.DataFrame(columns=['Date', 'High'])\n",
    "for row in google_price.itertuples():\n",
    "    if (last_month != row.Date.month):\n",
    "        last_month = row.Date.month\n",
    "        df = df.append({'Date': datetime.date(row.Date.year, row.Date.month, 1),\n",
    "                        'High': row.High}, ignore_index=True)\n",
    "        \n",
    "google_price = df\n",
    "google_price.head(10)"
   ]
  },
  {
   "cell_type": "code",
   "execution_count": 40,
   "id": "25546d10",
   "metadata": {},
   "outputs": [
    {
     "name": "stdout",
     "output_type": "stream",
     "text": [
      "<class 'pandas.core.frame.DataFrame'>\n",
      "Index: 60 entries, 2016-04-01 to 2021-03-01\n",
      "Data columns (total 1 columns):\n",
      " #   Column  Non-Null Count  Dtype  \n",
      "---  ------  --------------  -----  \n",
      " 0   High    60 non-null     float64\n",
      "dtypes: float64(1)\n",
      "memory usage: 960.0+ bytes\n"
     ]
    }
   ],
   "source": [
    "google_price = google_price.set_index(['Date'])\n",
    "\n",
    "google_price.info()"
   ]
  },
  {
   "cell_type": "code",
   "execution_count": 41,
   "id": "979c4735",
   "metadata": {},
   "outputs": [
    {
     "data": {
      "text/plain": [
       "<AxesSubplot:title={'center':'Original'}, ylabel='High'>"
      ]
     },
     "execution_count": 41,
     "metadata": {},
     "output_type": "execute_result"
    },
    {
     "data": {
      "image/png": "[encoded data removed]",
      "text/plain": [
       "<Figure size 1080x576 with 1 Axes>"
      ]
     },
     "metadata": {
      "needs_background": "light"
     },
     "output_type": "display_data"
    }
   ],
   "source": [
    "import matplotlib.pyplot as plt\n",
    "\n",
    "plt.figure(figsize=(15, 8))\n",
    "plt.title('Original')\n",
    "plt.ylabel('High', rotation=0, labelpad=30)\n",
    "df['High'].plot()"
   ]
  },
  {
   "cell_type": "code",
   "execution_count": null,
   "id": "1f71ddf4",
   "metadata": {},
   "outputs": [],
   "source": []
  }
 ],
 "metadata": {
  "kernelspec": {
   "display_name": "Python 3 (ipykernel)",
   "language": "python",
   "name": "python3"
  },
  "language_info": {
   "codemirror_mode": {
    "name": "ipython",
    "version": 3
   },
   "file_extension": ".py",
   "mimetype": "text/x-python",
   "name": "python",
   "nbconvert_exporter": "python",
   "pygments_lexer": "ipython3",
   "version": "3.8.10"
  }
 },
 "nbformat": 4,
 "nbformat_minor": 5
}
