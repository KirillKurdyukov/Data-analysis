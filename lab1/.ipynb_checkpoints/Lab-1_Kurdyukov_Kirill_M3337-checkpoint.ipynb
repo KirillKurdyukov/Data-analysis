{
 "cells": [
  {
   "cell_type": "markdown",
   "id": "absent-counter",
   "metadata": {},
   "source": [
    "# 1. Предобработка\n",
    "\n",
    "\n",
    "Выберите набор данных из списка в конце задания. Обработайте данные в нём:\n",
    "\n",
    "1. Обработайте недостающие данные в датасете - удалить/заменить/etc, обоснуйте своё решение\n",
    "1. Постройте как минимум по 1 графику каждого типа из представленных на лекции. Для каждого построенного графика объясните почему отображённые данные лучше всего представимы именно этим типом графика\n",
    "1. Сохраните датасет\n",
    "\n",
    "\n",
    "1. Создайте новую колонку, отображающую характеристику набора данных. Новая колонка должна обладать смысловой нагрузкой. \n",
    "\n",
    "    Например, для набора данных о прямоугольниках с двумя колонками width и height будет корректно придумать колонку square, равную width * height или perimeter Некорректно будет придумать колонку width2, равную width * 2, потому что эта информация не будет нести полезную информацию о фигурах\n",
    "\n",
    "Не оценивается баллами, но даёт очки уважения:\n",
    "1. Выдвиньте 2 гипотезы о данных. Например, для датасета codeforces достаточно интересной гипотезой может быть \"простые задачи (рейтинг меньше 1500) почти всегда решаются больше 5000 раз\"\n",
    "\n",
    "\n",
    "Наборы данных:\n",
    "\n",
    "1. [Spotify Tracks DB](https://www.kaggle.com/zaheenhamidani/ultimate-spotify-tracks-db) - характеристики треков в spotify\n",
    "1. [VKontakte Dataset of Users' Textual Data](https://www.kaggle.com/oldaandozerskaya/vkontakte-dataset-of-users-textual-data) 1. основная информация 10к профилей ВК\n",
    "1. [Data Science for COVID-19](https://www.kaggle.com/kimjihoo/coronavirusdataset) - информация о распространении коронавируса в Южной Корее в 2020 году\n",
    "1. [Dota 2 - Pro Players Matches Results 2019 ~ 2021](https://www.kaggle.com/devinanzelmo/dota-2-matches?select=player_ratings.csv) - информация матчей игроков DoTA 2. Если данные не влезают в память, можно воспользоваться [аналогом pandas](https://dask.org/) для обработки вне RAM\n",
    "1. [GPS Data of Seabirds](https://www.kaggle.com/saurabhshahane/predicting-animal-behavior-using-gps) - данные о миграции птиц\n",
    "1. [FAANG Historical Stock Price Data](https://www.kaggle.com/specter7/amazon-amzn-historical-stock-price-data) -  данные о биржевых котировках компаний FAANG c 2016 по 2021 год\n",
    "1. [NBA 2k20 player dataset](https://www.kaggle.com/isaienkov/nba2k20-player-dataset) - информация об игроках NBA\n",
    " [Anime dataset](https://www.kaggle.com/thunderz/anime-dataset?select=user_data.csv) - данные о просмотре аниме пользователями с сайта myAnimeList"
   ]
  },
  {
   "cell_type": "markdown",
   "id": "f779f5ad",
   "metadata": {},
   "source": [
    "Заимпортим все нужные библеотеки и датасет. В этом задании я буду анализировать информацию об игроках NBA за 20-й год."
   ]
  },
  {
   "cell_type": "code",
   "execution_count": 5,
   "id": "e4796ab7",
   "metadata": {},
   "outputs": [],
   "source": [
    "import pandas as pd\n",
    "import numpy as np\n",
    "import matplotlib.pyplot as plt\n",
    "\n",
    "nba_players = pd.read_csv('./nba2k20-full.csv')"
   ]
  },
  {
   "cell_type": "code",
   "execution_count": 31,
   "id": "0c7d77a4",
   "metadata": {},
   "outputs": [
    {
     "data": {
      "text/html": [
       "<div>\n",
       "<style scoped>\n",
       "    .dataframe tbody tr th:only-of-type {\n",
       "        vertical-align: middle;\n",
       "    }\n",
       "\n",
       "    .dataframe tbody tr th {\n",
       "        vertical-align: top;\n",
       "    }\n",
       "\n",
       "    .dataframe thead th {\n",
       "        text-align: right;\n",
       "    }\n",
       "</style>\n",
       "<table border=\"1\" class=\"dataframe\">\n",
       "  <thead>\n",
       "    <tr style=\"text-align: right;\">\n",
       "      <th></th>\n",
       "      <th>full_name</th>\n",
       "      <th>rating</th>\n",
       "      <th>jersey</th>\n",
       "      <th>team</th>\n",
       "      <th>position</th>\n",
       "      <th>b_day</th>\n",
       "      <th>height</th>\n",
       "      <th>weight</th>\n",
       "      <th>salary</th>\n",
       "      <th>country</th>\n",
       "      <th>draft_year</th>\n",
       "      <th>draft_round</th>\n",
       "      <th>draft_peak</th>\n",
       "      <th>college</th>\n",
       "    </tr>\n",
       "  </thead>\n",
       "  <tbody>\n",
       "    <tr>\n",
       "      <th>0</th>\n",
       "      <td>LeBron James</td>\n",
       "      <td>97</td>\n",
       "      <td>#23</td>\n",
       "      <td>Los Angeles Lakers</td>\n",
       "      <td>F</td>\n",
       "      <td>12/30/84</td>\n",
       "      <td>6-9 / 2.06</td>\n",
       "      <td>250 lbs. / 113.4 kg.</td>\n",
       "      <td>$37436858</td>\n",
       "      <td>USA</td>\n",
       "      <td>2003</td>\n",
       "      <td>1</td>\n",
       "      <td>1</td>\n",
       "      <td>NaN</td>\n",
       "    </tr>\n",
       "    <tr>\n",
       "      <th>1</th>\n",
       "      <td>Kawhi Leonard</td>\n",
       "      <td>97</td>\n",
       "      <td>#2</td>\n",
       "      <td>Los Angeles Clippers</td>\n",
       "      <td>F</td>\n",
       "      <td>06/29/91</td>\n",
       "      <td>6-7 / 2.01</td>\n",
       "      <td>225 lbs. / 102.1 kg.</td>\n",
       "      <td>$32742000</td>\n",
       "      <td>USA</td>\n",
       "      <td>2011</td>\n",
       "      <td>1</td>\n",
       "      <td>15</td>\n",
       "      <td>San Diego State</td>\n",
       "    </tr>\n",
       "    <tr>\n",
       "      <th>2</th>\n",
       "      <td>Giannis Antetokounmpo</td>\n",
       "      <td>96</td>\n",
       "      <td>#34</td>\n",
       "      <td>Milwaukee Bucks</td>\n",
       "      <td>F-G</td>\n",
       "      <td>12/06/94</td>\n",
       "      <td>6-11 / 2.11</td>\n",
       "      <td>242 lbs. / 109.8 kg.</td>\n",
       "      <td>$25842697</td>\n",
       "      <td>Greece</td>\n",
       "      <td>2013</td>\n",
       "      <td>1</td>\n",
       "      <td>15</td>\n",
       "      <td>NaN</td>\n",
       "    </tr>\n",
       "    <tr>\n",
       "      <th>3</th>\n",
       "      <td>Kevin Durant</td>\n",
       "      <td>96</td>\n",
       "      <td>#7</td>\n",
       "      <td>Brooklyn Nets</td>\n",
       "      <td>F</td>\n",
       "      <td>09/29/88</td>\n",
       "      <td>6-10 / 2.08</td>\n",
       "      <td>230 lbs. / 104.3 kg.</td>\n",
       "      <td>$37199000</td>\n",
       "      <td>USA</td>\n",
       "      <td>2007</td>\n",
       "      <td>1</td>\n",
       "      <td>2</td>\n",
       "      <td>Texas</td>\n",
       "    </tr>\n",
       "    <tr>\n",
       "      <th>4</th>\n",
       "      <td>James Harden</td>\n",
       "      <td>96</td>\n",
       "      <td>#13</td>\n",
       "      <td>Houston Rockets</td>\n",
       "      <td>G</td>\n",
       "      <td>08/26/89</td>\n",
       "      <td>6-5 / 1.96</td>\n",
       "      <td>220 lbs. / 99.8 kg.</td>\n",
       "      <td>$38199000</td>\n",
       "      <td>USA</td>\n",
       "      <td>2009</td>\n",
       "      <td>1</td>\n",
       "      <td>3</td>\n",
       "      <td>Arizona State</td>\n",
       "    </tr>\n",
       "  </tbody>\n",
       "</table>\n",
       "</div>"
      ],
      "text/plain": [
       "               full_name  rating jersey                  team position  \\\n",
       "0           LeBron James      97    #23    Los Angeles Lakers        F   \n",
       "1          Kawhi Leonard      97     #2  Los Angeles Clippers        F   \n",
       "2  Giannis Antetokounmpo      96    #34       Milwaukee Bucks      F-G   \n",
       "3           Kevin Durant      96     #7         Brooklyn Nets        F   \n",
       "4           James Harden      96    #13       Houston Rockets        G   \n",
       "\n",
       "      b_day       height                weight     salary country  draft_year  \\\n",
       "0  12/30/84   6-9 / 2.06  250 lbs. / 113.4 kg.  $37436858     USA        2003   \n",
       "1  06/29/91   6-7 / 2.01  225 lbs. / 102.1 kg.  $32742000     USA        2011   \n",
       "2  12/06/94  6-11 / 2.11  242 lbs. / 109.8 kg.  $25842697  Greece        2013   \n",
       "3  09/29/88  6-10 / 2.08  230 lbs. / 104.3 kg.  $37199000     USA        2007   \n",
       "4  08/26/89   6-5 / 1.96   220 lbs. / 99.8 kg.  $38199000     USA        2009   \n",
       "\n",
       "  draft_round draft_peak          college  \n",
       "0           1          1              NaN  \n",
       "1           1         15  San Diego State  \n",
       "2           1         15              NaN  \n",
       "3           1          2            Texas  \n",
       "4           1          3    Arizona State  "
      ]
     },
     "execution_count": 31,
     "metadata": {},
     "output_type": "execute_result"
    }
   ],
   "source": [
    "nba_players.head()"
   ]
  },
  {
   "cell_type": "markdown",
   "id": "2f762793",
   "metadata": {},
   "source": [
    "Следует дать некоторое пояснение к таблице: \n",
    "\n",
    "1. В столбце heigh первые значения - это футы - дюймы / сантиметры  \n",
    "2. Столбец draft_year указывает в каком году был совершен переход в команду\n",
    "3. В NBA существуют драфт раунды - это когда команды в некотором порядке, зависящем от рейтинга клуба, набирают себе крутых молодых игроков из колледжей или смотрят по достижениям. Столбец draft_round - в каком круге, draft_peak - каким номером его выбрали.\n",
    "\n",
    "В остальном все понятно."
   ]
  },
  {
   "cell_type": "code",
   "execution_count": 32,
   "id": "a79979d0",
   "metadata": {},
   "outputs": [
    {
     "name": "stdout",
     "output_type": "stream",
     "text": [
      "<class 'pandas.core.frame.DataFrame'>\n",
      "RangeIndex: 429 entries, 0 to 428\n",
      "Data columns (total 14 columns):\n",
      " #   Column       Non-Null Count  Dtype \n",
      "---  ------       --------------  ----- \n",
      " 0   full_name    429 non-null    object\n",
      " 1   rating       429 non-null    int64 \n",
      " 2   jersey       429 non-null    object\n",
      " 3   team         406 non-null    object\n",
      " 4   position     429 non-null    object\n",
      " 5   b_day        429 non-null    object\n",
      " 6   height       429 non-null    object\n",
      " 7   weight       429 non-null    object\n",
      " 8   salary       429 non-null    object\n",
      " 9   country      429 non-null    object\n",
      " 10  draft_year   429 non-null    int64 \n",
      " 11  draft_round  429 non-null    object\n",
      " 12  draft_peak   429 non-null    object\n",
      " 13  college      363 non-null    object\n",
      "dtypes: int64(2), object(12)\n",
      "memory usage: 47.0+ KB\n"
     ]
    }
   ],
   "source": [
    "nba_players.info()"
   ]
  },
  {
   "cell_type": "code",
   "execution_count": 33,
   "id": "43742be1",
   "metadata": {},
   "outputs": [
    {
     "data": {
      "text/plain": [
       "full_name       0\n",
       "rating          0\n",
       "jersey          0\n",
       "team           23\n",
       "position        0\n",
       "b_day           0\n",
       "height          0\n",
       "weight          0\n",
       "salary          0\n",
       "country         0\n",
       "draft_year      0\n",
       "draft_round     0\n",
       "draft_peak      0\n",
       "college        66\n",
       "dtype: int64"
      ]
     },
     "execution_count": 33,
     "metadata": {},
     "output_type": "execute_result"
    }
   ],
   "source": [
    "nba_players.isna().sum()"
   ]
  },
  {
   "cell_type": "markdown",
   "id": "a6361b58",
   "metadata": {},
   "source": [
    "Можно увидеть, что в столбце 'team' 23 NaN ячейки, а в столбце 'college' 66 NaN ячеек. Лучше будет им присвоить более человекочитаемое значения."
   ]
  },
  {
   "cell_type": "code",
   "execution_count": 34,
   "id": "e208092a",
   "metadata": {},
   "outputs": [
    {
     "data": {
      "text/plain": [
       "0        Los Angeles Lakers\n",
       "1      Los Angeles Clippers\n",
       "2           Milwaukee Bucks\n",
       "3             Brooklyn Nets\n",
       "4           Houston Rockets\n",
       "               ...         \n",
       "424           Atlanta Hawks\n",
       "425         Houston Rockets\n",
       "426      Los Angeles Lakers\n",
       "427            Phoenix Suns\n",
       "428              Miami Heat\n",
       "Name: team, Length: 429, dtype: object"
      ]
     },
     "execution_count": 34,
     "metadata": {},
     "output_type": "execute_result"
    }
   ],
   "source": [
    "nba_players['team'].fillna('Free agent')"
   ]
  },
  {
   "cell_type": "code",
   "execution_count": 35,
   "id": "c4ca20a3",
   "metadata": {},
   "outputs": [
    {
     "data": {
      "text/plain": [
       "0              No college\n",
       "1         San Diego State\n",
       "2              No college\n",
       "3                   Texas\n",
       "4           Arizona State\n",
       "              ...        \n",
       "424    Florida Gulf Coast\n",
       "425               Florida\n",
       "426                Dayton\n",
       "427            No college\n",
       "428              Michigan\n",
       "Name: college, Length: 429, dtype: object"
      ]
     },
     "execution_count": 35,
     "metadata": {},
     "output_type": "execute_result"
    }
   ],
   "source": [
    "nba_players['college'].fillna('No college')"
   ]
  },
  {
   "cell_type": "code",
   "execution_count": 36,
   "id": "09ebe950",
   "metadata": {
    "scrolled": true
   },
   "outputs": [
    {
     "data": {
      "text/plain": [
       "[<matplotlib.lines.Line2D at 0x7f8d0d0a9160>]"
      ]
     },
     "execution_count": 36,
     "metadata": {},
     "output_type": "execute_result"
    },
    {
     "data": {
      "image/png": "[encoded data removed]",
      "text/plain": [
       "<Figure size 1440x360 with 1 Axes>"
      ]
     },
     "metadata": {
      "needs_background": "light"
     },
     "output_type": "display_data"
    }
   ],
   "source": [
    "plt.figure(figsize = (20,5))\n",
    "plt.ylabel('Height, meter')\n",
    "plt.xlabel('Number player in dataset')\n",
    "plt.plot(nba_players['height'].apply(lambda x : float(x.split('/')[1])))"
   ]
  },
  {
   "cell_type": "markdown",
   "id": "549dbbda",
   "metadata": {},
   "source": [
    "Здесь видно, что колебания происходят в районе 2 метров +- 20 сантиметров. Можно сделать вывод, что батскетболисты здоровые мужики."
   ]
  },
  {
   "cell_type": "code",
   "execution_count": 37,
   "id": "441792ef",
   "metadata": {},
   "outputs": [
    {
     "data": {
      "text/plain": [
       "(array([  2.,   0.,   2.,   2.,   7.,   8.,  11.,  16.,  18.,  14.,  24.,\n",
       "         26.,  34.,  37.,  38.,  39.,  50., 101.]),\n",
       " array([2001., 2002., 2003., 2004., 2005., 2006., 2007., 2008., 2009.,\n",
       "        2010., 2011., 2012., 2013., 2014., 2015., 2016., 2017., 2018.,\n",
       "        2019.]),\n",
       " <BarContainer object of 18 artists>)"
      ]
     },
     "execution_count": 37,
     "metadata": {},
     "output_type": "execute_result"
    },
    {
     "data": {
      "image/png": "[encoded data removed]",
      "text/plain": [
       "<Figure size 1080x720 with 1 Axes>"
      ]
     },
     "metadata": {
      "needs_background": "light"
     },
     "output_type": "display_data"
    }
   ],
   "source": [
    "plt.figure(figsize = (15,10))\n",
    "plt.ylabel('Number of transitions')\n",
    "plt.xlabel('Years')\n",
    "plt.hist(nba_players.draft_year, bins=nba_players.draft_year.nunique())"
   ]
  },
  {
   "cell_type": "markdown",
   "id": "6edeb90e",
   "metadata": {},
   "source": [
    "Видно, что в NBA на 2020 год произошла большая ротация составов, за последние 3 года составы команд сильно изменились, либо приходят игроки из других чемпионатов, или идет смена клуба у батскетболиста внутри лиги. Также стоит заметить, что игроков, выступающих за один клуб больше 10 лет, а тем более 15 лет, очень и очень мало, буквально около 20-ти спортсменов. \n",
    "\n",
    "Есть гипотеза, что ротация спортсменов - свойственное явление, для команды выступающей в NBA."
   ]
  },
  {
   "cell_type": "code",
   "execution_count": 38,
   "id": "f2f010af",
   "metadata": {
    "scrolled": false
   },
   "outputs": [
    {
     "data": {
      "text/plain": [
       "<BarContainer object of 52 artists>"
      ]
     },
     "execution_count": 38,
     "metadata": {},
     "output_type": "execute_result"
    },
    {
     "data": {
      "image/png": "[encoded data removed]",
      "text/plain": [
       "<Figure size 1080x720 with 1 Axes>"
      ]
     },
     "metadata": {
      "needs_background": "light"
     },
     "output_type": "display_data"
    }
   ],
   "source": [
    "plt.figure(figsize = (15,10))\n",
    "plt.ylabel('Player numbers')\n",
    "plt.xlabel('Number of players')\n",
    "jersey_to_count_players = nba_players.groupby('jersey').full_name.count()\n",
    "\n",
    "plt.barh(jersey_to_count_players.index, jersey_to_count_players)"
   ]
  },
  {
   "cell_type": "markdown",
   "id": "2f2e3b54",
   "metadata": {},
   "source": [
    "Интересный график, показывающий какой любимый номер у игроков NBA. Меня лично удивило удивило, что номер 0 выбирали подавляющее большенство относительно других номеров! "
   ]
  },
  {
   "cell_type": "code",
   "execution_count": 39,
   "id": "6d869272",
   "metadata": {
    "scrolled": false
   },
   "outputs": [
    {
     "name": "stdout",
     "output_type": "stream",
     "text": [
      "Максимальная зарплата: 40231758\n"
     ]
    },
    {
     "data": {
      "text/plain": [
       "{'whiskers': [<matplotlib.lines.Line2D at 0x7f8d075e0130>,\n",
       "  <matplotlib.lines.Line2D at 0x7f8d075e04c0>],\n",
       " 'caps': [<matplotlib.lines.Line2D at 0x7f8d075e0850>,\n",
       "  <matplotlib.lines.Line2D at 0x7f8d075e0be0>],\n",
       " 'boxes': [<matplotlib.lines.Line2D at 0x7f8d075d3d60>],\n",
       " 'medians': [<matplotlib.lines.Line2D at 0x7f8d075e0f70>],\n",
       " 'fliers': [<matplotlib.lines.Line2D at 0x7f8d075e7340>],\n",
       " 'means': []}"
      ]
     },
     "execution_count": 39,
     "metadata": {},
     "output_type": "execute_result"
    },
    {
     "data": {
      "image/png": "[encoded data removed]",
      "text/plain": [
       "<Figure size 1080x216 with 1 Axes>"
      ]
     },
     "metadata": {
      "needs_background": "light"
     },
     "output_type": "display_data"
    }
   ],
   "source": [
    "plt.figure(figsize = (15,3))\n",
    "plt.xlabel('Part of max salary')\n",
    "\n",
    "salary = nba_players.salary.apply(lambda x : int(x[1:]))\n",
    "max_salary = max(salary)\n",
    "\n",
    "print('Максимальная зарплата: ' + str(max_salary))\n",
    "\n",
    "plt.boxplot(salary.apply(lambda x : x /max_salary), vert=False, whis=0.95)"
   ]
  },
  {
   "cell_type": "code",
   "execution_count": 40,
   "id": "a7138547",
   "metadata": {},
   "outputs": [
    {
     "data": {
      "text/html": [
       "<div>\n",
       "<style scoped>\n",
       "    .dataframe tbody tr th:only-of-type {\n",
       "        vertical-align: middle;\n",
       "    }\n",
       "\n",
       "    .dataframe tbody tr th {\n",
       "        vertical-align: top;\n",
       "    }\n",
       "\n",
       "    .dataframe thead th {\n",
       "        text-align: right;\n",
       "    }\n",
       "</style>\n",
       "<table border=\"1\" class=\"dataframe\">\n",
       "  <thead>\n",
       "    <tr style=\"text-align: right;\">\n",
       "      <th></th>\n",
       "      <th>full_name</th>\n",
       "      <th>rating</th>\n",
       "      <th>jersey</th>\n",
       "      <th>team</th>\n",
       "      <th>position</th>\n",
       "      <th>b_day</th>\n",
       "      <th>height</th>\n",
       "      <th>weight</th>\n",
       "      <th>salary</th>\n",
       "      <th>country</th>\n",
       "      <th>draft_year</th>\n",
       "      <th>draft_round</th>\n",
       "      <th>draft_peak</th>\n",
       "      <th>college</th>\n",
       "    </tr>\n",
       "  </thead>\n",
       "  <tbody>\n",
       "    <tr>\n",
       "      <th>5</th>\n",
       "      <td>Stephen Curry</td>\n",
       "      <td>95</td>\n",
       "      <td>#30</td>\n",
       "      <td>Golden State Warriors</td>\n",
       "      <td>G</td>\n",
       "      <td>03/14/88</td>\n",
       "      <td>6-3 / 1.91</td>\n",
       "      <td>185 lbs. / 83.9 kg.</td>\n",
       "      <td>$40231758</td>\n",
       "      <td>USA</td>\n",
       "      <td>2009</td>\n",
       "      <td>1</td>\n",
       "      <td>7</td>\n",
       "      <td>Davidson</td>\n",
       "    </tr>\n",
       "  </tbody>\n",
       "</table>\n",
       "</div>"
      ],
      "text/plain": [
       "       full_name  rating jersey                   team position     b_day  \\\n",
       "5  Stephen Curry      95    #30  Golden State Warriors        G  03/14/88   \n",
       "\n",
       "       height               weight     salary country  draft_year draft_round  \\\n",
       "5  6-3 / 1.91  185 lbs. / 83.9 kg.  $40231758     USA        2009           1   \n",
       "\n",
       "  draft_peak   college  \n",
       "5          7  Davidson  "
      ]
     },
     "execution_count": 40,
     "metadata": {},
     "output_type": "execute_result"
    }
   ],
   "source": [
    "nba_players.loc[nba_players.salary == '$40231758']"
   ]
  },
  {
   "cell_type": "markdown",
   "id": "34d6d9d2",
   "metadata": {},
   "source": [
    "Можно наблюдать, что в среднем батскетболист NBA получает 4 миллиона долларов, что в свою очередь в 10 раз меньше, чем самый высокооплачиваемый спортсмен лиги. И удивительно, что в промежутке от 0.5 до 1 всего 5%. 95% игроков получают до 20 миллионов долларов."
   ]
  },
  {
   "cell_type": "code",
   "execution_count": 41,
   "id": "c8637ab3",
   "metadata": {},
   "outputs": [
    {
     "data": {
      "text/plain": [
       "{'whiskers': [<matplotlib.lines.Line2D at 0x7f8d07544310>,\n",
       "  <matplotlib.lines.Line2D at 0x7f8d075446a0>],\n",
       " 'caps': [<matplotlib.lines.Line2D at 0x7f8d075449d0>,\n",
       "  <matplotlib.lines.Line2D at 0x7f8d07544c70>],\n",
       " 'boxes': [<matplotlib.lines.Line2D at 0x7f8d075b7f40>],\n",
       " 'medians': [<matplotlib.lines.Line2D at 0x7f8d07551040>],\n",
       " 'fliers': [<matplotlib.lines.Line2D at 0x7f8d075513d0>],\n",
       " 'means': []}"
      ]
     },
     "execution_count": 41,
     "metadata": {},
     "output_type": "execute_result"
    },
    {
     "data": {
      "image/png": "[encoded data removed]",
      "text/plain": [
       "<Figure size 1080x216 with 1 Axes>"
      ]
     },
     "metadata": {
      "needs_background": "light"
     },
     "output_type": "display_data"
    }
   ],
   "source": [
    "plt.figure(figsize = (15,3))\n",
    "plt.xlabel('Rating')\n",
    "plt.boxplot(nba_players.rating, vert=False, whis=0.95)"
   ]
  },
  {
   "cell_type": "code",
   "execution_count": 42,
   "id": "3cf01dd4",
   "metadata": {
    "scrolled": false
   },
   "outputs": [
    {
     "data": {
      "text/plain": [
       "(array([[70., 62., 44., 45., 36.,  0.,  0.,  0.,  0.,  0.],\n",
       "        [ 0.,  0.,  0.,  0.,  0.,  0.,  0.,  0.,  0.,  0.],\n",
       "        [ 0.,  0.,  0.,  0.,  0.,  0.,  0.,  0.,  0.,  0.],\n",
       "        [ 0.,  0.,  0.,  0.,  0.,  0.,  0.,  0.,  0.,  0.],\n",
       "        [ 0.,  0.,  0.,  0.,  0.,  0.,  0.,  0.,  0.,  0.],\n",
       "        [ 0.,  0.,  0.,  0.,  0.,  0.,  0.,  0.,  0.,  0.],\n",
       "        [ 0.,  0.,  0.,  0.,  0.,  0.,  0.,  0.,  0.,  0.],\n",
       "        [ 0.,  0.,  0.,  0.,  0.,  0.,  0.,  0.,  0.,  0.],\n",
       "        [ 0.,  0.,  0.,  0.,  0.,  0.,  0.,  0.,  0.,  0.],\n",
       "        [ 0.,  0.,  0.,  0.,  0., 34., 28., 25., 10.,  8.]]),\n",
       " array([1. , 1.1, 1.2, 1.3, 1.4, 1.5, 1.6, 1.7, 1.8, 1.9, 2. ]),\n",
       " array([ 1. ,  6.9, 12.8, 18.7, 24.6, 30.5, 36.4, 42.3, 48.2, 54.1, 60. ]),\n",
       " <matplotlib.collections.QuadMesh at 0x7f8d0d0c70d0>)"
      ]
     },
     "execution_count": 42,
     "metadata": {},
     "output_type": "execute_result"
    },
    {
     "data": {
      "image/png": "[encoded data removed]",
      "text/plain": [
       "<Figure size 432x288 with 1 Axes>"
      ]
     },
     "metadata": {
      "needs_background": "light"
     },
     "output_type": "display_data"
    }
   ],
   "source": [
    "plt.hist2d(nba_players[nba_players.draft_round != 'Undrafted'].draft_round.apply(lambda x : int(x)),\n",
    "           nba_players[nba_players.draft_peak != 'Undrafted'].draft_peak.apply(lambda x : int(x)))"
   ]
  },
  {
   "cell_type": "markdown",
   "id": "04b9937d",
   "metadata": {},
   "source": [
    "Либо в первом кругу до 30 пика или с 30 позиции во втором кругу разбираются игроки. На второй круг не так много играков остается."
   ]
  },
  {
   "cell_type": "code",
   "execution_count": 44,
   "id": "b46c5ab1",
   "metadata": {},
   "outputs": [
    {
     "data": {
      "text/plain": [
       "<matplotlib.collections.PathCollection at 0x7f8d0d27aee0>"
      ]
     },
     "execution_count": 44,
     "metadata": {},
     "output_type": "execute_result"
    },
    {
     "data": {
      "image/png": "[encoded data removed]",
      "text/plain": [
       "<Figure size 1080x720 with 1 Axes>"
      ]
     },
     "metadata": {
      "needs_background": "light"
     },
     "output_type": "display_data"
    }
   ],
   "source": [
    "plt.figure(figsize = (15,10))\n",
    "plt.xlabel('weight, kg')\n",
    "plt.ylabel('height, m')\n",
    "plt.scatter(nba_players.weight.apply(lambda x : float(x.split('/')[1].split()[0])), \n",
    "            nba_players.height.apply(lambda x : float(x.split('/')[1])))"
   ]
  },
  {
   "cell_type": "markdown",
   "id": "e13acb24",
   "metadata": {},
   "source": [
    "Видно, что много спортсменов одинакового роста, довольно забавный факт. Есть гипотеза, что есть некоторое неофициальное правило, что игроков определенного роста должно быть некоторое колличество. "
   ]
  },
  {
   "cell_type": "code",
   "execution_count": 45,
   "id": "f9fce12b",
   "metadata": {},
   "outputs": [
    {
     "name": "stdout",
     "output_type": "stream",
     "text": [
      "Atlanta Hawks: 6-0 / 1.83\n",
      "Boston Celtics: 5-11 / 1.80\n",
      "Brooklyn Nets: 6-2 / 1.88\n",
      "Charlotte Hornets: 6-1 / 1.85\n",
      "Chicago Bulls: 6-3 / 1.91\n",
      "Cleveland Cavaliers: 6-1 / 1.85\n",
      "Dallas Mavericks: 5-10 / 1.78\n",
      "Denver Nuggets: 6-2 / 1.88\n",
      "Detroit Pistons: 6-1 / 1.85\n",
      "Golden State Warriors: 6-3 / 1.91\n",
      "Houston Rockets: 6-3 / 1.91\n",
      "Indiana Pacers: 6-0 / 1.83\n",
      "Los Angeles Clippers: 6-1 / 1.85\n",
      "Los Angeles Lakers: 6-1 / 1.85\n",
      "Memphis Grizzlies: 6-0 / 1.83\n",
      "Miami Heat: 6-3 / 1.91\n",
      "Milwaukee Bucks: 5-11 / 1.80\n",
      "Minnesota Timberwolves: 6-4 / 1.93\n",
      "New Orleans Pelicans: 6-3 / 1.91\n",
      "New York Knicks: 6-2 / 1.88\n",
      "Oklahoma City Thunder: 6-1 / 1.85\n",
      "Orlando Magic: 5-11 / 1.80\n",
      "Philadelphia 76ers: 6-1 / 1.85\n",
      "Phoenix Suns: 6-1 / 1.85\n",
      "Portland Trail Blazers: 6-2 / 1.88\n",
      "Sacramento Kings: 6-0 / 1.83\n",
      "San Antonio Spurs: 6-1 / 1.85\n",
      "Toronto Raptors: 6-0 / 1.83\n",
      "Utah Jazz: 6-1 / 1.85\n",
      "Washington Wizards: 6-0 / 1.83\n"
     ]
    },
    {
     "data": {
      "text/plain": [
       "<Figure size 1080x720 with 0 Axes>"
      ]
     },
     "metadata": {},
     "output_type": "display_data"
    }
   ],
   "source": [
    "plt.figure(figsize = (15,10))\n",
    "min_hight_players = nba_players.groupby('team').height.apply(list)\n",
    "\n",
    "for k in min_hight_players.keys() : \n",
    "    print(k + ': ' + min(min_hight_players[k], key = lambda x : float(x.split('/')[1])))\n"
   ]
  },
  {
   "cell_type": "markdown",
   "id": "092bc01e",
   "metadata": {},
   "source": [
    "Минимальный рост игрока в команде. Гипотеза - человеку с маленьким ростом тяжело пробиться в профессиональный батскетбол :)"
   ]
  },
  {
   "cell_type": "code",
   "execution_count": 46,
   "id": "1633b3df",
   "metadata": {},
   "outputs": [],
   "source": [
    "def action(year):\n",
    "    age_player = year.split('/')\n",
    "    if (int(age_player[2]) <= 50):\n",
    "        return age_player[0] + '/' + age_player[1] + '/' + '20' + age_player[2]\n",
    "    return age_player[0] + '/' + age_player[1] + '/' + '19' + age_player[2]\n",
    "\n",
    "nba_players.b_day = nba_players.b_day.apply(action)"
   ]
  },
  {
   "cell_type": "code",
   "execution_count": 47,
   "id": "93da73cd",
   "metadata": {},
   "outputs": [
    {
     "data": {
      "text/html": [
       "<div>\n",
       "<style scoped>\n",
       "    .dataframe tbody tr th:only-of-type {\n",
       "        vertical-align: middle;\n",
       "    }\n",
       "\n",
       "    .dataframe tbody tr th {\n",
       "        vertical-align: top;\n",
       "    }\n",
       "\n",
       "    .dataframe thead th {\n",
       "        text-align: right;\n",
       "    }\n",
       "</style>\n",
       "<table border=\"1\" class=\"dataframe\">\n",
       "  <thead>\n",
       "    <tr style=\"text-align: right;\">\n",
       "      <th></th>\n",
       "      <th>full_name</th>\n",
       "      <th>rating</th>\n",
       "      <th>jersey</th>\n",
       "      <th>team</th>\n",
       "      <th>position</th>\n",
       "      <th>b_day</th>\n",
       "      <th>height</th>\n",
       "      <th>weight</th>\n",
       "      <th>salary</th>\n",
       "      <th>country</th>\n",
       "      <th>draft_year</th>\n",
       "      <th>draft_round</th>\n",
       "      <th>draft_peak</th>\n",
       "      <th>college</th>\n",
       "    </tr>\n",
       "  </thead>\n",
       "  <tbody>\n",
       "    <tr>\n",
       "      <th>0</th>\n",
       "      <td>LeBron James</td>\n",
       "      <td>97</td>\n",
       "      <td>#23</td>\n",
       "      <td>Los Angeles Lakers</td>\n",
       "      <td>F</td>\n",
       "      <td>12/30/1984</td>\n",
       "      <td>6-9 / 2.06</td>\n",
       "      <td>250 lbs. / 113.4 kg.</td>\n",
       "      <td>$37436858</td>\n",
       "      <td>USA</td>\n",
       "      <td>2003</td>\n",
       "      <td>1</td>\n",
       "      <td>1</td>\n",
       "      <td>NaN</td>\n",
       "    </tr>\n",
       "    <tr>\n",
       "      <th>1</th>\n",
       "      <td>Kawhi Leonard</td>\n",
       "      <td>97</td>\n",
       "      <td>#2</td>\n",
       "      <td>Los Angeles Clippers</td>\n",
       "      <td>F</td>\n",
       "      <td>06/29/1991</td>\n",
       "      <td>6-7 / 2.01</td>\n",
       "      <td>225 lbs. / 102.1 kg.</td>\n",
       "      <td>$32742000</td>\n",
       "      <td>USA</td>\n",
       "      <td>2011</td>\n",
       "      <td>1</td>\n",
       "      <td>15</td>\n",
       "      <td>San Diego State</td>\n",
       "    </tr>\n",
       "    <tr>\n",
       "      <th>2</th>\n",
       "      <td>Giannis Antetokounmpo</td>\n",
       "      <td>96</td>\n",
       "      <td>#34</td>\n",
       "      <td>Milwaukee Bucks</td>\n",
       "      <td>F-G</td>\n",
       "      <td>12/06/1994</td>\n",
       "      <td>6-11 / 2.11</td>\n",
       "      <td>242 lbs. / 109.8 kg.</td>\n",
       "      <td>$25842697</td>\n",
       "      <td>Greece</td>\n",
       "      <td>2013</td>\n",
       "      <td>1</td>\n",
       "      <td>15</td>\n",
       "      <td>NaN</td>\n",
       "    </tr>\n",
       "    <tr>\n",
       "      <th>3</th>\n",
       "      <td>Kevin Durant</td>\n",
       "      <td>96</td>\n",
       "      <td>#7</td>\n",
       "      <td>Brooklyn Nets</td>\n",
       "      <td>F</td>\n",
       "      <td>09/29/1988</td>\n",
       "      <td>6-10 / 2.08</td>\n",
       "      <td>230 lbs. / 104.3 kg.</td>\n",
       "      <td>$37199000</td>\n",
       "      <td>USA</td>\n",
       "      <td>2007</td>\n",
       "      <td>1</td>\n",
       "      <td>2</td>\n",
       "      <td>Texas</td>\n",
       "    </tr>\n",
       "    <tr>\n",
       "      <th>4</th>\n",
       "      <td>James Harden</td>\n",
       "      <td>96</td>\n",
       "      <td>#13</td>\n",
       "      <td>Houston Rockets</td>\n",
       "      <td>G</td>\n",
       "      <td>08/26/1989</td>\n",
       "      <td>6-5 / 1.96</td>\n",
       "      <td>220 lbs. / 99.8 kg.</td>\n",
       "      <td>$38199000</td>\n",
       "      <td>USA</td>\n",
       "      <td>2009</td>\n",
       "      <td>1</td>\n",
       "      <td>3</td>\n",
       "      <td>Arizona State</td>\n",
       "    </tr>\n",
       "  </tbody>\n",
       "</table>\n",
       "</div>"
      ],
      "text/plain": [
       "               full_name  rating jersey                  team position  \\\n",
       "0           LeBron James      97    #23    Los Angeles Lakers        F   \n",
       "1          Kawhi Leonard      97     #2  Los Angeles Clippers        F   \n",
       "2  Giannis Antetokounmpo      96    #34       Milwaukee Bucks      F-G   \n",
       "3           Kevin Durant      96     #7         Brooklyn Nets        F   \n",
       "4           James Harden      96    #13       Houston Rockets        G   \n",
       "\n",
       "        b_day       height                weight     salary country  \\\n",
       "0  12/30/1984   6-9 / 2.06  250 lbs. / 113.4 kg.  $37436858     USA   \n",
       "1  06/29/1991   6-7 / 2.01  225 lbs. / 102.1 kg.  $32742000     USA   \n",
       "2  12/06/1994  6-11 / 2.11  242 lbs. / 109.8 kg.  $25842697  Greece   \n",
       "3  09/29/1988  6-10 / 2.08  230 lbs. / 104.3 kg.  $37199000     USA   \n",
       "4  08/26/1989   6-5 / 1.96   220 lbs. / 99.8 kg.  $38199000     USA   \n",
       "\n",
       "   draft_year draft_round draft_peak          college  \n",
       "0        2003           1          1              NaN  \n",
       "1        2011           1         15  San Diego State  \n",
       "2        2013           1         15              NaN  \n",
       "3        2007           1          2            Texas  \n",
       "4        2009           1          3    Arizona State  "
      ]
     },
     "execution_count": 47,
     "metadata": {},
     "output_type": "execute_result"
    }
   ],
   "source": [
    "nba_players.head()"
   ]
  },
  {
   "cell_type": "markdown",
   "id": "10081207",
   "metadata": {},
   "source": [
    "Даты рождения стали значительнее читаймее, то есть если не знать какой сейчас век нельзя сказать какого года батскетболист. И для дальнейшей обработки дата сета пригодиться."
   ]
  },
  {
   "cell_type": "code",
   "execution_count": 48,
   "id": "c7237798",
   "metadata": {},
   "outputs": [],
   "source": [
    "import datetime\n",
    "current_year = 2020\n",
    "career_decline = 35\n",
    "\n",
    "def action(year):\n",
    "    career = career_decline + int(year.split('/')[2]) - current_year\n",
    "    if (career <= 0):\n",
    "        return 'Old'\n",
    "    return career\n",
    "\n",
    "nba_players.loc[:, 'years_until_retirement'] = nba_players.b_day.apply(action)"
   ]
  },
  {
   "cell_type": "code",
   "execution_count": 49,
   "id": "b8022b68",
   "metadata": {},
   "outputs": [
    {
     "data": {
      "text/html": [
       "<div>\n",
       "<style scoped>\n",
       "    .dataframe tbody tr th:only-of-type {\n",
       "        vertical-align: middle;\n",
       "    }\n",
       "\n",
       "    .dataframe tbody tr th {\n",
       "        vertical-align: top;\n",
       "    }\n",
       "\n",
       "    .dataframe thead th {\n",
       "        text-align: right;\n",
       "    }\n",
       "</style>\n",
       "<table border=\"1\" class=\"dataframe\">\n",
       "  <thead>\n",
       "    <tr style=\"text-align: right;\">\n",
       "      <th></th>\n",
       "      <th>full_name</th>\n",
       "      <th>rating</th>\n",
       "      <th>jersey</th>\n",
       "      <th>team</th>\n",
       "      <th>position</th>\n",
       "      <th>b_day</th>\n",
       "      <th>height</th>\n",
       "      <th>weight</th>\n",
       "      <th>salary</th>\n",
       "      <th>country</th>\n",
       "      <th>draft_year</th>\n",
       "      <th>draft_round</th>\n",
       "      <th>draft_peak</th>\n",
       "      <th>college</th>\n",
       "      <th>years_until_retirement</th>\n",
       "    </tr>\n",
       "  </thead>\n",
       "  <tbody>\n",
       "    <tr>\n",
       "      <th>0</th>\n",
       "      <td>LeBron James</td>\n",
       "      <td>97</td>\n",
       "      <td>#23</td>\n",
       "      <td>Los Angeles Lakers</td>\n",
       "      <td>F</td>\n",
       "      <td>12/30/1984</td>\n",
       "      <td>6-9 / 2.06</td>\n",
       "      <td>250 lbs. / 113.4 kg.</td>\n",
       "      <td>$37436858</td>\n",
       "      <td>USA</td>\n",
       "      <td>2003</td>\n",
       "      <td>1</td>\n",
       "      <td>1</td>\n",
       "      <td>NaN</td>\n",
       "      <td>Old</td>\n",
       "    </tr>\n",
       "    <tr>\n",
       "      <th>1</th>\n",
       "      <td>Kawhi Leonard</td>\n",
       "      <td>97</td>\n",
       "      <td>#2</td>\n",
       "      <td>Los Angeles Clippers</td>\n",
       "      <td>F</td>\n",
       "      <td>06/29/1991</td>\n",
       "      <td>6-7 / 2.01</td>\n",
       "      <td>225 lbs. / 102.1 kg.</td>\n",
       "      <td>$32742000</td>\n",
       "      <td>USA</td>\n",
       "      <td>2011</td>\n",
       "      <td>1</td>\n",
       "      <td>15</td>\n",
       "      <td>San Diego State</td>\n",
       "      <td>6</td>\n",
       "    </tr>\n",
       "    <tr>\n",
       "      <th>2</th>\n",
       "      <td>Giannis Antetokounmpo</td>\n",
       "      <td>96</td>\n",
       "      <td>#34</td>\n",
       "      <td>Milwaukee Bucks</td>\n",
       "      <td>F-G</td>\n",
       "      <td>12/06/1994</td>\n",
       "      <td>6-11 / 2.11</td>\n",
       "      <td>242 lbs. / 109.8 kg.</td>\n",
       "      <td>$25842697</td>\n",
       "      <td>Greece</td>\n",
       "      <td>2013</td>\n",
       "      <td>1</td>\n",
       "      <td>15</td>\n",
       "      <td>NaN</td>\n",
       "      <td>9</td>\n",
       "    </tr>\n",
       "    <tr>\n",
       "      <th>3</th>\n",
       "      <td>Kevin Durant</td>\n",
       "      <td>96</td>\n",
       "      <td>#7</td>\n",
       "      <td>Brooklyn Nets</td>\n",
       "      <td>F</td>\n",
       "      <td>09/29/1988</td>\n",
       "      <td>6-10 / 2.08</td>\n",
       "      <td>230 lbs. / 104.3 kg.</td>\n",
       "      <td>$37199000</td>\n",
       "      <td>USA</td>\n",
       "      <td>2007</td>\n",
       "      <td>1</td>\n",
       "      <td>2</td>\n",
       "      <td>Texas</td>\n",
       "      <td>3</td>\n",
       "    </tr>\n",
       "    <tr>\n",
       "      <th>4</th>\n",
       "      <td>James Harden</td>\n",
       "      <td>96</td>\n",
       "      <td>#13</td>\n",
       "      <td>Houston Rockets</td>\n",
       "      <td>G</td>\n",
       "      <td>08/26/1989</td>\n",
       "      <td>6-5 / 1.96</td>\n",
       "      <td>220 lbs. / 99.8 kg.</td>\n",
       "      <td>$38199000</td>\n",
       "      <td>USA</td>\n",
       "      <td>2009</td>\n",
       "      <td>1</td>\n",
       "      <td>3</td>\n",
       "      <td>Arizona State</td>\n",
       "      <td>4</td>\n",
       "    </tr>\n",
       "  </tbody>\n",
       "</table>\n",
       "</div>"
      ],
      "text/plain": [
       "               full_name  rating jersey                  team position  \\\n",
       "0           LeBron James      97    #23    Los Angeles Lakers        F   \n",
       "1          Kawhi Leonard      97     #2  Los Angeles Clippers        F   \n",
       "2  Giannis Antetokounmpo      96    #34       Milwaukee Bucks      F-G   \n",
       "3           Kevin Durant      96     #7         Brooklyn Nets        F   \n",
       "4           James Harden      96    #13       Houston Rockets        G   \n",
       "\n",
       "        b_day       height                weight     salary country  \\\n",
       "0  12/30/1984   6-9 / 2.06  250 lbs. / 113.4 kg.  $37436858     USA   \n",
       "1  06/29/1991   6-7 / 2.01  225 lbs. / 102.1 kg.  $32742000     USA   \n",
       "2  12/06/1994  6-11 / 2.11  242 lbs. / 109.8 kg.  $25842697  Greece   \n",
       "3  09/29/1988  6-10 / 2.08  230 lbs. / 104.3 kg.  $37199000     USA   \n",
       "4  08/26/1989   6-5 / 1.96   220 lbs. / 99.8 kg.  $38199000     USA   \n",
       "\n",
       "   draft_year draft_round draft_peak          college years_until_retirement  \n",
       "0        2003           1          1              NaN                    Old  \n",
       "1        2011           1         15  San Diego State                      6  \n",
       "2        2013           1         15              NaN                      9  \n",
       "3        2007           1          2            Texas                      3  \n",
       "4        2009           1          3    Arizona State                      4  "
      ]
     },
     "execution_count": 49,
     "metadata": {},
     "output_type": "execute_result"
    }
   ],
   "source": [
    "nba_players.head()"
   ]
  },
  {
   "cell_type": "markdown",
   "id": "a3238963",
   "metadata": {},
   "source": [
    "Добавил новый столбец years_until_retirement, который говорит сколько примерно осталось играть батскетболисту, иначе он уже старый."
   ]
  },
  {
   "cell_type": "code",
   "execution_count": 50,
   "id": "63789137",
   "metadata": {},
   "outputs": [],
   "source": [
    "nba_players.to_csv('nba_players.csv', index=False)"
   ]
  },
  {
   "cell_type": "code",
   "execution_count": 51,
   "id": "eb7dfe29",
   "metadata": {},
   "outputs": [
    {
     "data": {
      "text/html": [
       "<div>\n",
       "<style scoped>\n",
       "    .dataframe tbody tr th:only-of-type {\n",
       "        vertical-align: middle;\n",
       "    }\n",
       "\n",
       "    .dataframe tbody tr th {\n",
       "        vertical-align: top;\n",
       "    }\n",
       "\n",
       "    .dataframe thead th {\n",
       "        text-align: right;\n",
       "    }\n",
       "</style>\n",
       "<table border=\"1\" class=\"dataframe\">\n",
       "  <thead>\n",
       "    <tr style=\"text-align: right;\">\n",
       "      <th></th>\n",
       "      <th>full_name</th>\n",
       "      <th>rating</th>\n",
       "      <th>jersey</th>\n",
       "      <th>team</th>\n",
       "      <th>position</th>\n",
       "      <th>b_day</th>\n",
       "      <th>height</th>\n",
       "      <th>weight</th>\n",
       "      <th>salary</th>\n",
       "      <th>country</th>\n",
       "      <th>draft_year</th>\n",
       "      <th>draft_round</th>\n",
       "      <th>draft_peak</th>\n",
       "      <th>college</th>\n",
       "      <th>years_until_retirement</th>\n",
       "    </tr>\n",
       "  </thead>\n",
       "  <tbody>\n",
       "    <tr>\n",
       "      <th>0</th>\n",
       "      <td>LeBron James</td>\n",
       "      <td>97</td>\n",
       "      <td>#23</td>\n",
       "      <td>Los Angeles Lakers</td>\n",
       "      <td>F</td>\n",
       "      <td>12/30/1984</td>\n",
       "      <td>6-9 / 2.06</td>\n",
       "      <td>250 lbs. / 113.4 kg.</td>\n",
       "      <td>$37436858</td>\n",
       "      <td>USA</td>\n",
       "      <td>2003</td>\n",
       "      <td>1</td>\n",
       "      <td>1</td>\n",
       "      <td>NaN</td>\n",
       "      <td>Old</td>\n",
       "    </tr>\n",
       "    <tr>\n",
       "      <th>1</th>\n",
       "      <td>Kawhi Leonard</td>\n",
       "      <td>97</td>\n",
       "      <td>#2</td>\n",
       "      <td>Los Angeles Clippers</td>\n",
       "      <td>F</td>\n",
       "      <td>06/29/1991</td>\n",
       "      <td>6-7 / 2.01</td>\n",
       "      <td>225 lbs. / 102.1 kg.</td>\n",
       "      <td>$32742000</td>\n",
       "      <td>USA</td>\n",
       "      <td>2011</td>\n",
       "      <td>1</td>\n",
       "      <td>15</td>\n",
       "      <td>San Diego State</td>\n",
       "      <td>6</td>\n",
       "    </tr>\n",
       "    <tr>\n",
       "      <th>2</th>\n",
       "      <td>Giannis Antetokounmpo</td>\n",
       "      <td>96</td>\n",
       "      <td>#34</td>\n",
       "      <td>Milwaukee Bucks</td>\n",
       "      <td>F-G</td>\n",
       "      <td>12/06/1994</td>\n",
       "      <td>6-11 / 2.11</td>\n",
       "      <td>242 lbs. / 109.8 kg.</td>\n",
       "      <td>$25842697</td>\n",
       "      <td>Greece</td>\n",
       "      <td>2013</td>\n",
       "      <td>1</td>\n",
       "      <td>15</td>\n",
       "      <td>NaN</td>\n",
       "      <td>9</td>\n",
       "    </tr>\n",
       "    <tr>\n",
       "      <th>3</th>\n",
       "      <td>Kevin Durant</td>\n",
       "      <td>96</td>\n",
       "      <td>#7</td>\n",
       "      <td>Brooklyn Nets</td>\n",
       "      <td>F</td>\n",
       "      <td>09/29/1988</td>\n",
       "      <td>6-10 / 2.08</td>\n",
       "      <td>230 lbs. / 104.3 kg.</td>\n",
       "      <td>$37199000</td>\n",
       "      <td>USA</td>\n",
       "      <td>2007</td>\n",
       "      <td>1</td>\n",
       "      <td>2</td>\n",
       "      <td>Texas</td>\n",
       "      <td>3</td>\n",
       "    </tr>\n",
       "    <tr>\n",
       "      <th>4</th>\n",
       "      <td>James Harden</td>\n",
       "      <td>96</td>\n",
       "      <td>#13</td>\n",
       "      <td>Houston Rockets</td>\n",
       "      <td>G</td>\n",
       "      <td>08/26/1989</td>\n",
       "      <td>6-5 / 1.96</td>\n",
       "      <td>220 lbs. / 99.8 kg.</td>\n",
       "      <td>$38199000</td>\n",
       "      <td>USA</td>\n",
       "      <td>2009</td>\n",
       "      <td>1</td>\n",
       "      <td>3</td>\n",
       "      <td>Arizona State</td>\n",
       "      <td>4</td>\n",
       "    </tr>\n",
       "  </tbody>\n",
       "</table>\n",
       "</div>"
      ],
      "text/plain": [
       "               full_name  rating jersey                  team position  \\\n",
       "0           LeBron James      97    #23    Los Angeles Lakers        F   \n",
       "1          Kawhi Leonard      97     #2  Los Angeles Clippers        F   \n",
       "2  Giannis Antetokounmpo      96    #34       Milwaukee Bucks      F-G   \n",
       "3           Kevin Durant      96     #7         Brooklyn Nets        F   \n",
       "4           James Harden      96    #13       Houston Rockets        G   \n",
       "\n",
       "        b_day       height                weight     salary country  \\\n",
       "0  12/30/1984   6-9 / 2.06  250 lbs. / 113.4 kg.  $37436858     USA   \n",
       "1  06/29/1991   6-7 / 2.01  225 lbs. / 102.1 kg.  $32742000     USA   \n",
       "2  12/06/1994  6-11 / 2.11  242 lbs. / 109.8 kg.  $25842697  Greece   \n",
       "3  09/29/1988  6-10 / 2.08  230 lbs. / 104.3 kg.  $37199000     USA   \n",
       "4  08/26/1989   6-5 / 1.96   220 lbs. / 99.8 kg.  $38199000     USA   \n",
       "\n",
       "   draft_year draft_round draft_peak          college years_until_retirement  \n",
       "0        2003           1          1              NaN                    Old  \n",
       "1        2011           1         15  San Diego State                      6  \n",
       "2        2013           1         15              NaN                      9  \n",
       "3        2007           1          2            Texas                      3  \n",
       "4        2009           1          3    Arizona State                      4  "
      ]
     },
     "execution_count": 51,
     "metadata": {},
     "output_type": "execute_result"
    }
   ],
   "source": [
    "check_table = pd.read_csv('./nba_players.csv')\n",
    "\n",
    "check_table.head()"
   ]
  },
  {
   "cell_type": "code",
   "execution_count": 52,
   "id": "915332dc",
   "metadata": {},
   "outputs": [
    {
     "name": "stdout",
     "output_type": "stream",
     "text": [
      "<class 'pandas.core.frame.DataFrame'>\n",
      "RangeIndex: 429 entries, 0 to 428\n",
      "Data columns (total 15 columns):\n",
      " #   Column                  Non-Null Count  Dtype \n",
      "---  ------                  --------------  ----- \n",
      " 0   full_name               429 non-null    object\n",
      " 1   rating                  429 non-null    int64 \n",
      " 2   jersey                  429 non-null    object\n",
      " 3   team                    406 non-null    object\n",
      " 4   position                429 non-null    object\n",
      " 5   b_day                   429 non-null    object\n",
      " 6   height                  429 non-null    object\n",
      " 7   weight                  429 non-null    object\n",
      " 8   salary                  429 non-null    object\n",
      " 9   country                 429 non-null    object\n",
      " 10  draft_year              429 non-null    int64 \n",
      " 11  draft_round             429 non-null    object\n",
      " 12  draft_peak              429 non-null    object\n",
      " 13  college                 363 non-null    object\n",
      " 14  years_until_retirement  429 non-null    object\n",
      "dtypes: int64(2), object(13)\n",
      "memory usage: 50.4+ KB\n"
     ]
    }
   ],
   "source": [
    "check_table.info()"
   ]
  },
  {
   "cell_type": "markdown",
   "id": "figured-arnold",
   "metadata": {},
   "source": [
    "# 2. Интерполяция кривой\n",
    "\n",
    "Сгенерируйте от 5 до 20 точек со случайными разными координатами (x, y), расположите их на координатной плоскости\n",
    "\n",
    "1. С помощью библиотеки scipy примените один из её [алгоритмов интерполяции](https://docs.scipy.org/doc/scipy/reference/interpolate.html) к сгенерированным данным\n",
    "1. Изучите математический подход метод выбранного алгоритма интерполяции в scipy. Найдите и продемонстрируйте при сдаче реализацию метода в исходном коде библиотеки scipy. Найти можно в [github репозитории проекта](https://github.com/scipy/scipy)\n",
    "1. Выберите среди методов интерполяции в scipy любой другой метод интерполяции (кроме линейной интерполяций). Реализуйте выбранный метод без использования сторонних библиотек. Разрешается использовать numpy для упрощения математичеких вычислений\n",
    "1. Визуализируйте кривую интерполяции библиотечного и вашего алгоритмов с помощью  matplotlib. Сравните качество интерполяции своего и библиотечного методов, объясните разницу в качестве"
   ]
  },
  {
   "cell_type": "code",
   "execution_count": 9,
   "id": "3a93a28b",
   "metadata": {},
   "outputs": [
    {
     "name": "stdout",
     "output_type": "stream",
     "text": [
      "[5.893166350718012, 2.071327390803898, 6.758141083910827, 1.234614062266578, 6.768658112958523, 0.38826735731456785]\n",
      "[4.421841696245825, 6.666678809761305, 4.360742141023138, 6.2567908032699995, 1.8081613740750935, 3.457715700465326]\n"
     ]
    }
   ],
   "source": [
    "import random\n",
    "\n",
    "k = random.randint(5,10)\n",
    "\n",
    "rand_x = [random.random() * 10 for _ in range(k)]\n",
    "rand_y = [random.random() * 10 for _ in range(k)]\n",
    "\n",
    "print(rand_x)\n",
    "print(rand_y)"
   ]
  },
  {
   "cell_type": "code",
   "execution_count": 29,
   "id": "7bae5b72",
   "metadata": {
    "scrolled": false
   },
   "outputs": [
    {
     "data": {
      "image/png": "[encoded data removed]",
      "text/plain": [
       "<Figure size 432x288 with 1 Axes>"
      ]
     },
     "metadata": {
      "needs_background": "light"
     },
     "output_type": "display_data"
    }
   ],
   "source": [
    "import scipy.interpolate as sc\n",
    "\n",
    "f = sc.interp1d(rand_x, rand_y, kind='linear')\n",
    "newx = np.linspace(min(rand_x), max(rand_x), num=10000, endpoint=True)\n",
    "\n",
    "plt.plot(rand_x, rand_y, 'o', newx, f(newx), '-')\n",
    "\n",
    "plt.show()"
   ]
  },
  {
   "cell_type": "markdown",
   "id": "84118e6e",
   "metadata": {},
   "source": [
    "Линейная интерполяция. В библиотеке scipy в interplote.py реализована с 199 строки."
   ]
  },
  {
   "cell_type": "code",
   "execution_count": 57,
   "id": "3f79550a",
   "metadata": {},
   "outputs": [],
   "source": [
    "def my_lagrange(X, Y):\n",
    "    def li(x, xi):\n",
    "        numerator = 1\n",
    "        denominator = 1\n",
    "        for xx in X:\n",
    "            if (xx != xi):\n",
    "                numerator *= (x - xx)\n",
    "        for xx in X:\n",
    "            if (xx != xi):\n",
    "                denominator *= (xi - xx)\n",
    "        return numerator / denominator    \n",
    "            \n",
    "    def fun(x):\n",
    "        ans = 0\n",
    "        for i,y in enumerate(Y):\n",
    "            ans += y * li(x, X[i])\n",
    "        return ans\n",
    "    return fun"
   ]
  },
  {
   "cell_type": "markdown",
   "id": "efd53d68",
   "metadata": {},
   "source": [
    "Интерполяционный многочлен Лагранжа. В библиотеке scipy в interplote.py реализован с 25 строки по 95 строку."
   ]
  },
  {
   "cell_type": "code",
   "execution_count": 58,
   "id": "91af21fa",
   "metadata": {},
   "outputs": [
    {
     "data": {
      "image/png": "[encoded data removed]",
      "text/plain": [
       "<Figure size 432x288 with 1 Axes>"
      ]
     },
     "metadata": {
      "needs_background": "light"
     },
     "output_type": "display_data"
    }
   ],
   "source": [
    "import scipy.interpolate as sc\n",
    "\n",
    "\n",
    "f1 = my_lagrange(rand_x, rand_y)\n",
    "f2 = sc.lagrange(rand_x, rand_y)\n",
    "newx = np.linspace(min(rand_x), max(rand_x), num=10000, endpoint=True)\n",
    "\n",
    "plt.plot(rand_x, rand_y, 'o', newx, f1(newx), '-', newx, f2(newx), '--')\n",
    "\n",
    "plt.show()"
   ]
  },
  {
   "cell_type": "markdown",
   "id": "alleged-tooth",
   "metadata": {},
   "source": [
    "# 3. Быстрая гистограмма\n",
    "\n",
    "Иногда хочется получить дискретное распределение из N колонок. Но пока что для этого у нас есть только plt.hist(), которая тратит много времени на отрисовку графика. Вам предлагается реализовать свою функцию построения дискретного распределения\n",
    "\n",
    "1. Алгоритм должен получать на вход список чисел и количество колонок гистограммы. Возвращать нужно значения столбцов (ось абсцисс гистограммы) и количество значений, принадлежащее столбцу (ось ординат гистограммы). Пример с использованием plt показан ниже, сигнатура функции также показана ниже\n",
    "1. Изучите функцию [plt.bar](https://matplotlib.org/stable/api/_as_gen/matplotlib.pyplot.bar.html). Это такая же гистограмма как plt.hist, но в отличие от hist требуется явно указывать высоту колонок и их название\n",
    "1. С помощью результатов своего алгоритма и plt.bar постройте гистограмму по массиву из 50+ случайных чисел. Графики plt.bar по вашему алгоритму и plt.hist() должны совпадать, что подтвердит корректность работы вашего алгоритма\n",
    "1. Сравните скорость построения распределения по массиву чисел с помощью своего алгоритма и с помощью plt.hist. В jupyter рекомендуется использовать built-in magic commands, а именно timeit. Но можно обойтись и ручными измерениями времени выполнения"
   ]
  },
  {
   "cell_type": "code",
   "execution_count": 226,
   "id": "harmful-settle",
   "metadata": {
    "scrolled": true
   },
   "outputs": [
    {
     "name": "stdout",
     "output_type": "stream",
     "text": [
      "Значения колонок: [3. 2. 2. 2.]\n",
      "Названия колонок: [1.   1.75 2.5  3.25 4.  ]\n"
     ]
    },
    {
     "data": {
      "image/png": "[encoded data removed]",
      "text/plain": [
       "<Figure size 432x288 with 1 Axes>"
      ]
     },
     "metadata": {
      "needs_background": "light"
     },
     "output_type": "display_data"
    }
   ],
   "source": [
    "# Пример гистограммы с помощью plt.hist()\n",
    "import matplotlib.pyplot as plt\n",
    "\n",
    "array = [1,1,2,3,4,1,2,3,4]\n",
    "\n",
    "value_counts, bins_names, visual_figure = plt.hist(array, \n",
    "                                                   bins=len(set(array)), \n",
    "                                                   rwidth=0.9)\n",
    "# Параметр rwidth и визуализацию в своей функции реализовывать не требуется\n",
    "print('Значения колонок:', value_counts)\n",
    "print('Названия колонок:', bins_names)"
   ]
  },
  {
   "cell_type": "code",
   "execution_count": 3,
   "id": "parliamentary-worker",
   "metadata": {},
   "outputs": [],
   "source": [
    "from typing import List, Tuple, Union\n",
    "\n",
    "def fast_hist(array: List[Union[int, float]], \n",
    "              bins: int) -> Tuple[List[int], List[float]]:\n",
    "    \"\"\"\n",
    "    Builds bins' labels and bins' value counts for given array\n",
    "    :param array: array with numeric values\n",
    "    :param bins:  number of bins in result distribution\n",
    "    :return: Two lists: \n",
    "             first contains value counts of each bin,\n",
    "             second contains list of bins' labels\n",
    "    \"\"\"\n",
    "    max_el = max(array)\n",
    "    min_el = min(array)\n",
    "    delta = (max_el - min_el) / bins\n",
    "    bins_names = np.arange(min_el, max_el, delta)\n",
    "    count_in_bin = np.zeros(bins)\n",
    "    for val in array:\n",
    "        count_in_bin[min(int((val - min_el) / delta), bins - 1)] += 1\n",
    "    return (np.array([int (x) for x in count_in_bin]), bins_names)"
   ]
  },
  {
   "cell_type": "code",
   "execution_count": 6,
   "id": "03b9b86e",
   "metadata": {
    "scrolled": true
   },
   "outputs": [
    {
     "data": {
      "text/plain": [
       "<BarContainer object of 4 artists>"
      ]
     },
     "execution_count": 6,
     "metadata": {},
     "output_type": "execute_result"
    },
    {
     "data": {
      "image/png": "[encoded data removed]",
      "text/plain": [
       "<Figure size 432x288 with 1 Axes>"
      ]
     },
     "metadata": {
      "needs_background": "light"
     },
     "output_type": "display_data"
    }
   ],
   "source": [
    "array = [1,1,2,3,4,1,2,3,4]\n",
    "value_counts, bins_names = fast_hist(array, len(set(array)))\n",
    "\n",
    "plt.bar(bins_names, value_counts, width = 0.7)"
   ]
  },
  {
   "cell_type": "code",
   "execution_count": 7,
   "id": "053d64f4",
   "metadata": {},
   "outputs": [
    {
     "data": {
      "text/plain": [
       "<BarContainer object of 4 artists>"
      ]
     },
     "execution_count": 7,
     "metadata": {},
     "output_type": "execute_result"
    },
    {
     "data": {
      "image/png": "[encoded data removed]",
      "text/plain": [
       "<Figure size 432x288 with 1 Axes>"
      ]
     },
     "metadata": {
      "needs_background": "light"
     },
     "output_type": "display_data"
    }
   ],
   "source": [
    "a = [1, 2, 3, 4, 4, 5, 6, 7, 7]\n",
    "bins = 4\n",
    "value_counts, bins_names = fast_hist(a, bins)\n",
    "\n",
    "plt.bar(bins_names, value_counts, width = 0.7)"
   ]
  },
  {
   "cell_type": "code",
   "execution_count": 66,
   "id": "1935267a",
   "metadata": {},
   "outputs": [
    {
     "data": {
      "image/png": "[encoded data removed]",
      "text/plain": [
       "<Figure size 432x288 with 1 Axes>"
      ]
     },
     "metadata": {
      "needs_background": "light"
     },
     "output_type": "display_data"
    }
   ],
   "source": [
    "array = [random.randint(0, 51) for _ in range(5000)]\n",
    "\n",
    "value_counts, bins_names, visual_figure = plt.hist(array, \n",
    "                                                   100)"
   ]
  },
  {
   "cell_type": "code",
   "execution_count": 67,
   "id": "f33ab873",
   "metadata": {},
   "outputs": [
    {
     "data": {
      "text/plain": [
       "<BarContainer object of 100 artists>"
      ]
     },
     "execution_count": 67,
     "metadata": {},
     "output_type": "execute_result"
    },
    {
     "data": {
      "image/png": "[encoded data removed]",
      "text/plain": [
       "<Figure size 432x288 with 1 Axes>"
      ]
     },
     "metadata": {
      "needs_background": "light"
     },
     "output_type": "display_data"
    }
   ],
   "source": [
    "value_counts, bins_names = fast_hist(array, 100)\n",
    "\n",
    "plt.bar(bins_names, value_counts)"
   ]
  },
  {
   "cell_type": "code",
   "execution_count": 68,
   "id": "6c4c460b",
   "metadata": {},
   "outputs": [
    {
     "name": "stdout",
     "output_type": "stream",
     "text": [
      "11.1 ms ± 194 µs per loop (mean ± std. dev. of 7 runs, 100 loops each)\n",
      "2.33 ms ± 42.7 µs per loop (mean ± std. dev. of 7 runs, 100 loops each)\n"
     ]
    },
    {
     "data": {
      "image/png": "[encoded data removed]",
      "text/plain": [
       "<Figure size 432x288 with 1 Axes>"
      ]
     },
     "metadata": {
      "needs_background": "light"
     },
     "output_type": "display_data"
    }
   ],
   "source": [
    "%timeit plt.hist(array, bins=8)\n",
    "%timeit fast_hist(array, 8)"
   ]
  },
  {
   "cell_type": "markdown",
   "id": "1361af3b",
   "metadata": {},
   "source": [
    "Очевидно, моя версия работает быстрее"
   ]
  },
  {
   "cell_type": "code",
   "execution_count": null,
   "id": "6d2aee09",
   "metadata": {},
   "outputs": [],
   "source": []
  }
 ],
 "metadata": {
  "kernelspec": {
   "display_name": "Python 3 (ipykernel)",
   "language": "python",
   "name": "python3"
  },
  "language_info": {
   "codemirror_mode": {
    "name": "ipython",
    "version": 3
   },
   "file_extension": ".py",
   "mimetype": "text/x-python",
   "name": "python",
   "nbconvert_exporter": "python",
   "pygments_lexer": "ipython3",
   "version": "3.8.10"
  }
 },
 "nbformat": 4,
 "nbformat_minor": 5
}
