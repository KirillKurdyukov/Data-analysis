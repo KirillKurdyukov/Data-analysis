{
 "cells": [
  {
   "cell_type": "markdown",
   "id": "loose-emerald",
   "metadata": {},
   "source": [
    "# 1. ResolutionFailure: Your dependencies could not be resolved\n",
    "\n",
    "Найдите python пакет, имеющий зависимость от любого python пакета, использованного вами в первой лабораторной. Создайте свой пакет и установите его с конфликтующими зависимостями\n",
    "\n",
    "1. Создайте и [загрузите в pypi](https://betterscientificsoftware.github.io/python-for-hpc/tutorials/python-pypi-packaging/) свой пакет, проверьте, что его можно установить через pip\n",
    "1. Установите свой пакет с помощью pip\n",
    "1. Установите свой пакет в любую вируальную среду\n",
    "1. Продемонстрируйте корректно работающие функции в своём python-пакете"
   ]
  },
  {
   "cell_type": "code",
   "execution_count": 1,
   "id": "a221af99",
   "metadata": {},
   "outputs": [
    {
     "name": "stdout",
     "output_type": "stream",
     "text": [
      "Requirement already satisfied: setuptools in /usr/lib/python3/dist-packages (45.2.0)\n",
      "Note: you may need to restart the kernel to use updated packages.\n"
     ]
    }
   ],
   "source": [
    "pip install setuptools "
   ]
  },
  {
   "cell_type": "markdown",
   "id": "24cc48f0",
   "metadata": {},
   "source": [
    "Для управления установкой моего проекта понадобиться setup.py, для этого я выше установил нужную тулзу. "
   ]
  },
  {
   "cell_type": "raw",
   "id": "2012de4a",
   "metadata": {},
   "source": [
    "from setuptools import setup\n",
    "\n",
    "setup(\n",
    "    name='kurdyukov_module',\n",
    "    version='0.1.0',    \n",
    "    description='A example Python package',\n",
    "    url='https://github.com/KirillKurdyukov/kurdyukov_module',\n",
    "    author='Kirill Kurdyukov',\n",
    "    author_email='kurdyukov_kirya@mail.ru',    \n",
    "    license='BSD 2-clause',\n",
    "    packages=['kurdyukov_module'],\n",
    "    install_requires=[\n",
    "                      'numpy',\n",
    "                      'matplotlib',\n",
    "                      ],\n",
    "\n",
    "    classifiers=[\n",
    "        'Development Status :: 1 - Planning',\n",
    "        'Intended Audience :: Science/Research',\n",
    "        'License :: OSI Approved :: BSD License',  \n",
    "        'Operating System :: POSIX :: Linux',        \n",
    "        'Programming Language :: Python :: 2',\n",
    "        'Programming Language :: Python :: 2.7',\n",
    "        'Programming Language :: Python :: 3',\n",
    "        'Programming Language :: Python :: 3.4',\n",
    "        'Programming Language :: Python :: 3.5',\n",
    "    ],\n",
    ")  "
   ]
  },
  {
   "cell_type": "raw",
   "id": "7a0f94b1",
   "metadata": {},
   "source": [
    "Проверим работу модуля локально, для этого из корня нашего пакета сделаем \"pip install . \".\n",
    "Processing /home/kirilloid/Data-analysis/lab2/kurdyukov_module\n",
    "Requirement already satisfied: matplotlib in /home/kirilloid/.local/lib/python3.8/site-packages (from kurdyukov-module==0.1.0) (3.4.3)\n",
    "Requirement already satisfied: numpy in /home/kirilloid/.local/lib/python3.8/site-packages (from kurdyukov-module==0.1.0) (1.21.2)\n",
    "Requirement already satisfied: pillow>=6.2.0 in /usr/lib/python3/dist-packages (from matplotlib->kurdyukov-module==0.1.0) (7.0.0)\n",
    "Requirement already satisfied: python-dateutil>=2.7 in /usr/lib/python3/dist-packages (from matplotlib->kurdyukov-module==0.1.0) (2.7.3)\n",
    "Requirement already satisfied: cycler>=0.10 in /home/kirilloid/.local/lib/python3.8/site-packages (from matplotlib->kurdyukov-module==0.1.0) (0.10.0)\n",
    "Requirement already satisfied: kiwisolver>=1.0.1 in /home/kirilloid/.local/lib/python3.8/site-packages (from matplotlib->kurdyukov-module==0.1.0) (1.3.2)\n",
    "Requirement already satisfied: pyparsing>=2.2.1 in /home/kirilloid/.local/lib/python3.8/site-packages (from matplotlib->kurdyukov-module==0.1.0) (2.4.7)\n",
    "Requirement already satisfied: six in /usr/lib/python3/dist-packages (from cycler>=0.10->matplotlib->kurdyukov-module==0.1.0) (1.14.0)\n",
    "Building wheels for collected packages: kurdyukov-module\n",
    "  Building wheel for kurdyukov-module (setup.py) ... done\n",
    "  Created wheel for kurdyukov-module: filename=kurdyukov_module-0.1.0-py3-none-any.whl size=3164 sha256=120c77b5b28323ed49ecef8843058dc8406677df05e2eb5f7492d2b7dd43e1f4\n",
    "  Stored in directory: /tmp/pip-ephem-wheel-cache-1bmiojal/wheels/cf/ff/a1/619cb2fedb729cda5febe8b50f3290b861ea151cae4072f52a\n",
    "Successfully built kurdyukov-module\n",
    "Installing collected packages: kurdyukov-module\n",
    "Successfully installed kurdyukov-module-0.1.0\n",
    "\n",
    "Получим текст успешной установки модуля."
   ]
  },
  {
   "cell_type": "code",
   "execution_count": 1,
   "id": "24d93056",
   "metadata": {},
   "outputs": [
    {
     "data": {
      "text/plain": [
       "'Kirill Kurdyukov'"
      ]
     },
     "execution_count": 1,
     "metadata": {},
     "output_type": "execute_result"
    }
   ],
   "source": [
    "import kurdyukov_module \n",
    "\n",
    "kurdyukov_module.__author__"
   ]
  },
  {
   "cell_type": "code",
   "execution_count": 2,
   "id": "e59edd67",
   "metadata": {},
   "outputs": [
    {
     "data": {
      "text/plain": [
       "'0.1.0'"
      ]
     },
     "execution_count": 2,
     "metadata": {},
     "output_type": "execute_result"
    }
   ],
   "source": [
    "kurdyukov_module.__version__"
   ]
  },
  {
   "cell_type": "code",
   "execution_count": 3,
   "id": "d88e5165",
   "metadata": {},
   "outputs": [
    {
     "data": {
      "text/plain": [
       "'ITMO University'"
      ]
     },
     "execution_count": 3,
     "metadata": {},
     "output_type": "execute_result"
    }
   ],
   "source": [
    "kurdyukov_module.__credits__"
   ]
  },
  {
   "cell_type": "code",
   "execution_count": 4,
   "id": "1e815731",
   "metadata": {},
   "outputs": [
    {
     "data": {
      "image/png": "[encoded data removed]",
      "text/plain": [
       "<Figure size 432x288 with 1 Axes>"
      ]
     },
     "metadata": {
      "needs_background": "light"
     },
     "output_type": "display_data"
    }
   ],
   "source": [
    "import kurdyukov_module.module_fast_hist as module\n",
    "array = [1,1,2,3,4,1,2,3,4]\n",
    "\n",
    "module.to_graph(array)"
   ]
  },
  {
   "cell_type": "markdown",
   "id": "c939cc47",
   "metadata": {},
   "source": [
    "Отлично, я могу использовать свой модуль. Теперь удалим kurdyukov_module и загрузим его в pypi. Сделаем это командой \"pip uninstall kurdyukov_module\"\n",
    "\n",
    "Found existing installation: kurdyukov-module 0.1.0\n",
    "Uninstalling kurdyukov-module-0.1.0:\n",
    "  Would remove:\n",
    "    /home/kirilloid/.local/lib/python3.8/site-packages/kurdyukov_module-0.1.0.dist-info/*\n",
    "    /home/kirilloid/.local/lib/python3.8/site-packages/kurdyukov_module/*\n",
    "Proceed (y/n)? y \n",
    "  Successfully uninstalled kurdyukov-module-0.1.0"
   ]
  },
  {
   "cell_type": "raw",
   "id": "c4c952da",
   "metadata": {},
   "source": [
    "Создание дистрибутива.\n",
    "\n",
    "PyPI имеет определенные необходимые метаданные, которые должен предоставить setup.py. Проверим это командой\n",
    "\"python3 setup.py check\".\n",
    "\n",
    "running check\n",
    "\n",
    "Если не поругалась, то все в порядке.\n",
    "Теперь создадим дистрибутив из корня моего модуля командой \"python setup.py sdist\"\n",
    "\n",
    "running sdist\n",
    "running egg_info\n",
    "creating kurdyukov_module.egg-info\n",
    "writing kurdyukov_module.egg-info/PKG-INFO\n",
    "writing dependency_links to kurdyukov_module.egg-info/dependency_links.txt\n",
    "writing requirements to kurdyukov_module.egg-info/requires.txt\n",
    "writing top-level names to kurdyukov_module.egg-info/top_level.txt\n",
    "writing manifest file 'kurdyukov_module.egg-info/SOURCES.txt'\n",
    "reading manifest file 'kurdyukov_module.egg-info/SOURCES.txt'\n",
    "writing manifest file 'kurdyukov_module.egg-info/SOURCES.txt'\n",
    "running check\n",
    "creating kurdyukov_module-0.1.0\n",
    "creating kurdyukov_module-0.1.0/kurdyukov_module\n",
    "creating kurdyukov_module-0.1.0/kurdyukov_module.egg-info\n",
    "copying files to kurdyukov_module-0.1.0...\n",
    "copying README.rst -> kurdyukov_module-0.1.0\n",
    "copying setup.py -> kurdyukov_module-0.1.0\n",
    "copying kurdyukov_module/__init__.py -> kurdyukov_module-0.1.0/kurdyukov_module\n",
    "copying kurdyukov_module/module_fast_hist.py -> kurdyukov_module-0.1.0/kurdyukov_module\n",
    "copying kurdyukov_module.egg-info/PKG-INFO -> kurdyukov_module-0.1.0/kurdyukov_module.egg-info\n",
    "copying kurdyukov_module.egg-info/SOURCES.txt -> kurdyukov_module-0.1.0/kurdyukov_module.egg-info\n",
    "copying kurdyukov_module.egg-info/dependency_links.txt -> kurdyukov_module-0.1.0/kurdyukov_module.egg-info\n",
    "copying kurdyukov_module.egg-info/requires.txt -> kurdyukov_module-0.1.0/kurdyukov_module.egg-info\n",
    "copying kurdyukov_module.egg-info/top_level.txt -> kurdyukov_module-0.1.0/kurdyukov_module.egg-info\n",
    "Writing kurdyukov_module-0.1.0/setup.cfg\n",
    "creating dist\n",
    "Creating tar archive\n",
    "removing 'kurdyukov_module-0.1.0' (and everything under it)\n",
    "\n",
    "Появилась папочка dist и в ней .tar файл моего модуля."
   ]
  },
  {
   "cell_type": "raw",
   "id": "a7997fc6",
   "metadata": {},
   "source": [
    "Загрузка в Pypi.\n",
    "\n",
    "После регестрации https://pypi.python.org и https://testpypi.python.org, сделаем команду pip install twine\n"
   ]
  },
  {
   "cell_type": "code",
   "execution_count": 3,
   "id": "01ae600f",
   "metadata": {},
   "outputs": [
    {
     "name": "stdout",
     "output_type": "stream",
     "text": [
      "Collecting twine\n",
      "  Downloading twine-3.4.2-py3-none-any.whl (34 kB)\n",
      "Collecting requests-toolbelt!=0.9.0,>=0.8.0\n",
      "  Downloading requests_toolbelt-0.9.1-py2.py3-none-any.whl (54 kB)\n",
      "\u001b[K     |████████████████████████████████| 54 kB 120 kB/s eta 0:00:01\n",
      "\u001b[?25hRequirement already satisfied: colorama>=0.4.3 in /usr/lib/python3/dist-packages (from twine) (0.4.3)\n",
      "Collecting pkginfo>=1.4.2\n",
      "  Downloading pkginfo-1.7.1-py2.py3-none-any.whl (25 kB)\n",
      "Collecting tqdm>=4.14\n",
      "  Downloading tqdm-4.62.3-py2.py3-none-any.whl (76 kB)\n",
      "\u001b[K     |████████████████████████████████| 76 kB 228 kB/s eta 0:00:011\n",
      "\u001b[?25hRequirement already satisfied: keyring>=15.1 in /usr/lib/python3/dist-packages (from twine) (18.0.1)\n",
      "Collecting importlib-metadata>=3.6\n",
      "  Downloading importlib_metadata-4.8.1-py3-none-any.whl (17 kB)\n",
      "Collecting rfc3986>=1.4.0\n",
      "  Downloading rfc3986-1.5.0-py2.py3-none-any.whl (31 kB)\n",
      "Collecting readme-renderer>=21.0\n",
      "  Downloading readme_renderer-29.0-py2.py3-none-any.whl (15 kB)\n",
      "Requirement already satisfied: requests>=2.20 in /usr/lib/python3/dist-packages (from twine) (2.22.0)\n",
      "Requirement already satisfied: secretstorage in /usr/lib/python3/dist-packages (from keyring>=15.1->twine) (2.3.1)\n",
      "Collecting zipp>=0.5\n",
      "  Downloading zipp-3.5.0-py3-none-any.whl (5.7 kB)\n",
      "Requirement already satisfied: Pygments>=2.5.1 in /home/kirilloid/.local/lib/python3.8/site-packages (from readme-renderer>=21.0->twine) (2.10.0)\n",
      "Collecting docutils>=0.13.1\n",
      "  Downloading docutils-0.17.1-py2.py3-none-any.whl (575 kB)\n",
      "\u001b[K     |████████████████████████████████| 575 kB 2.0 MB/s eta 0:00:01\n",
      "\u001b[?25hRequirement already satisfied: bleach>=2.1.0 in /home/kirilloid/.local/lib/python3.8/site-packages (from readme-renderer>=21.0->twine) (4.1.0)\n",
      "Requirement already satisfied: six in /usr/lib/python3/dist-packages (from readme-renderer>=21.0->twine) (1.14.0)\n",
      "Requirement already satisfied: packaging in /home/kirilloid/.local/lib/python3.8/site-packages (from bleach>=2.1.0->readme-renderer>=21.0->twine) (21.0)\n",
      "Requirement already satisfied: webencodings in /home/kirilloid/.local/lib/python3.8/site-packages (from bleach>=2.1.0->readme-renderer>=21.0->twine) (0.5.1)\n",
      "Requirement already satisfied: pyparsing>=2.0.2 in /home/kirilloid/.local/lib/python3.8/site-packages (from packaging->bleach>=2.1.0->readme-renderer>=21.0->twine) (2.4.7)\n",
      "Installing collected packages: requests-toolbelt, pkginfo, tqdm, zipp, importlib-metadata, rfc3986, docutils, readme-renderer, twine\n",
      "Successfully installed docutils-0.17.1 importlib-metadata-4.8.1 pkginfo-1.7.1 readme-renderer-29.0 requests-toolbelt-0.9.1 rfc3986-1.5.0 tqdm-4.62.3 twine-3.4.2 zipp-3.5.0\n",
      "Note: you may need to restart the kernel to use updated packages.\n"
     ]
    }
   ],
   "source": [
    "pip install twine"
   ]
  },
  {
   "cell_type": "raw",
   "id": "27208e4f",
   "metadata": {},
   "source": [
    "twine upload --repository-url https://test.pypi.org/legacy/ dist/*\n",
    "\n",
    "Uploading distributions to https://test.pypi.org/legacy/\n",
    "Enter your username: kirill123-_.123\n",
    "Enter your password: \n",
    "Uploading kurdyukov_module-0.1.0.tar.gz\n",
    "100%|█████████████████████████████████████████████████████████████████████████████████████████████████████| 5.64k/5.64k [00:01<00:00, 3.02kB/s]\n",
    "\n",
    "View at:\n",
    "https://test.pypi.org/project/kurdyukov-module/0.1.0/"
   ]
  },
  {
   "cell_type": "raw",
   "id": "fec0a7a8",
   "metadata": {},
   "source": [
    "twine upload dist/*\n",
    "\n",
    "Uploading distributions to https://upload.pypi.org/legacy/\n",
    "Enter your username: kirill123-_.123\n",
    "Enter your password: \n",
    "Uploading kurdyukov_module-0.1.0.tar.gz\n",
    "100%|█████████████████████████████████████████████████████████████████████████████████████████████████████| 5.64k/5.64k [00:01<00:00, 3.03kB/s]\n",
    "\n",
    "View at:\n",
    "https://pypi.org/project/kurdyukov-module/0.1.0/"
   ]
  },
  {
   "cell_type": "code",
   "execution_count": 3,
   "id": "28e96037",
   "metadata": {},
   "outputs": [
    {
     "name": "stdout",
     "output_type": "stream",
     "text": [
      "Collecting kurdyukov_module\n",
      "  Using cached kurdyukov_module-0.1.0.tar.gz (1.9 kB)\n",
      "Requirement already satisfied: matplotlib in /home/kirilloid/.local/lib/python3.8/site-packages (from kurdyukov_module) (3.4.3)\n",
      "Requirement already satisfied: numpy in /home/kirilloid/.local/lib/python3.8/site-packages (from kurdyukov_module) (1.21.2)\n",
      "Requirement already satisfied: pillow>=6.2.0 in /usr/lib/python3/dist-packages (from matplotlib->kurdyukov_module) (7.0.0)\n",
      "Requirement already satisfied: pyparsing>=2.2.1 in /home/kirilloid/.local/lib/python3.8/site-packages (from matplotlib->kurdyukov_module) (2.4.7)\n",
      "Requirement already satisfied: cycler>=0.10 in /home/kirilloid/.local/lib/python3.8/site-packages (from matplotlib->kurdyukov_module) (0.10.0)\n",
      "Requirement already satisfied: kiwisolver>=1.0.1 in /home/kirilloid/.local/lib/python3.8/site-packages (from matplotlib->kurdyukov_module) (1.3.2)\n",
      "Requirement already satisfied: python-dateutil>=2.7 in /usr/lib/python3/dist-packages (from matplotlib->kurdyukov_module) (2.7.3)\n",
      "Requirement already satisfied: six in /usr/lib/python3/dist-packages (from cycler>=0.10->matplotlib->kurdyukov_module) (1.14.0)\n",
      "Building wheels for collected packages: kurdyukov-module\n",
      "  Building wheel for kurdyukov-module (setup.py) ... \u001b[?25ldone\n",
      "\u001b[?25h  Created wheel for kurdyukov-module: filename=kurdyukov_module-0.1.0-py3-none-any.whl size=2291 sha256=f9b4c3f2884d2b76385bc13c93fb46d0699c726f866827e9931c5b8dfb194797\n",
      "  Stored in directory: /home/kirilloid/.cache/pip/wheels/66/f4/2a/f03015347cd9443c8420d32ebab898ba21b404dfaee3685535\n",
      "Successfully built kurdyukov-module\n",
      "Installing collected packages: kurdyukov-module\n",
      "Successfully installed kurdyukov-module-0.1.0\n",
      "Note: you may need to restart the kernel to use updated packages.\n"
     ]
    }
   ],
   "source": [
    "pip install kurdyukov_module "
   ]
  },
  {
   "cell_type": "code",
   "execution_count": 1,
   "id": "93341977",
   "metadata": {
    "scrolled": false
   },
   "outputs": [
    {
     "data": {
      "text/plain": [
       "'Kirill Kurdyukov'"
      ]
     },
     "execution_count": 1,
     "metadata": {},
     "output_type": "execute_result"
    }
   ],
   "source": [
    "import kurdyukov_module \n",
    "\n",
    "kurdyukov_module.__author__"
   ]
  },
  {
   "cell_type": "code",
   "execution_count": 2,
   "id": "4044dcff",
   "metadata": {},
   "outputs": [
    {
     "data": {
      "text/plain": [
       "'0.1.0'"
      ]
     },
     "execution_count": 2,
     "metadata": {},
     "output_type": "execute_result"
    }
   ],
   "source": [
    "kurdyukov_module.__version__"
   ]
  },
  {
   "cell_type": "code",
   "execution_count": 3,
   "id": "e73e6d5e",
   "metadata": {},
   "outputs": [
    {
     "data": {
      "text/plain": [
       "'ITMO University'"
      ]
     },
     "execution_count": 3,
     "metadata": {},
     "output_type": "execute_result"
    }
   ],
   "source": [
    "kurdyukov_module.__credits__"
   ]
  },
  {
   "cell_type": "code",
   "execution_count": 4,
   "id": "25d47476",
   "metadata": {},
   "outputs": [
    {
     "data": {
      "image/png": "[encoded data removed]",
      "text/plain": [
       "<Figure size 432x288 with 1 Axes>"
      ]
     },
     "metadata": {
      "needs_background": "light"
     },
     "output_type": "display_data"
    }
   ],
   "source": [
    "import kurdyukov_module.module_fast_hist as module\n",
    "array = [1,1,2,3,4,1,2,3,4]\n",
    "\n",
    "module.to_graph(array)"
   ]
  },
  {
   "cell_type": "markdown",
   "id": "animated-fight",
   "metadata": {},
   "source": [
    "# 2. Да кто так пишет?!\n",
    "\n",
    "Возьмите произвольный дипломный проект по машинному обучению. Для этого скорее всего будет достаточно найти на github проекты по запросу \"machine learning thesis\" и профильтровать по языку \"Jupyter Notebook\". С большой вероятностью код случайно выбранного диплома в этой сфере будет ужасным. Приведите код в порядок:\n",
    "\n",
    "- вынесите занимающий место функционал в python модули\n",
    "- напишите аннотации типов для функций\n",
    "- добавьте конфиги для параметров\n",
    "- если это не требует углубления в логику дипломной работы, расставьте порядок запуска ноутбуков и/или скриптов\n",
    "- для случайных процессов зафиксируйте seed\n",
    "- выделите зависимости, создайте pipenv файлы\n",
    "- сделайте пулреквест автору: покажите своё культурное превосходство\n",
    "\n",
    "\n",
    "Выберите такой проект, который:\n",
    "- ещё не был выбран вашими одногруппниками\n",
    "- относительно небольшой по количеству файлов. Не стоит тратить много времени на это задание\n",
    "- содержит как минимум половину грехов из списка исправлений выше"
   ]
  },
  {
   "cell_type": "raw",
   "id": "0aede931",
   "metadata": {},
   "source": [
    "Буду помогать https://github.com/NusratHumaira2018/Thesis-Code"
   ]
  },
  {
   "cell_type": "code",
   "execution_count": 20,
   "id": "164578c2",
   "metadata": {},
   "outputs": [
    {
     "name": "stdout",
     "output_type": "stream",
     "text": [
      "{'labels': ['economics', 'entertainment', 'international', 'sports', 'state'], 'path_to_table': ['./stopword/Stopwords.csv'], 'path_to_test_table': ['./Test/final_test_data.csv'], 'seed': 10}\n"
     ]
    }
   ],
   "source": [
    "import yaml \n",
    "\n",
    "with open('./Thesis-Code/consts.yaml') as f:\n",
    "    templates = yaml.safe_load(f)\n",
    "\n",
    "print(templates)"
   ]
  },
  {
   "cell_type": "code",
   "execution_count": null,
   "id": "cf501985",
   "metadata": {},
   "outputs": [],
   "source": [
    "%matplotlib inline\n",
    "import matplotlib.pyplot as plt\n",
    "from sklearn.metrics import confusion_matrix\n",
    "\n",
    "labels = templates['lables']\n",
    "def draw_result(y_test: List[float],\n",
    "                y_pred: List[float]) -> List[float]:\n",
    "    def plot_confusion_matrix(y_test: List[float],\n",
    "                              y_pred: List[float],\n",
    "                              normalize=False: bool,\n",
    "                              title=None: str,\n",
    "                              cmap=plt.cm.Blues):\n",
    "        \"\"\"\n",
    "        This function prints and plots the confusion matrix.\n",
    "        Normalization can be applied by setting `normalize=True`.\n",
    "        \"\"\"\n",
    "        if not title:\n",
    "            if normalize:\n",
    "                title = 'Normalized confusion matrix'\n",
    "            else:\n",
    "                title = 'Confusion matrix, without normalization'\n",
    "\n",
    "        # Compute confusion matrix\n",
    "        cm = confusion_matrix(y_test, y_pred)\n",
    "        if normalize:\n",
    "            cm = cm.astype('float') / cm.sum(axis=1)[:, np.newaxis]\n",
    "            print(\"Normalized confusion matrix\")\n",
    "        else:\n",
    "            print('Confusion matrix, without normalization')\n",
    "\n",
    "        print(cm)\n",
    "\n",
    "        fig, ax = plt.subplots()\n",
    "        im = ax.imshow(cm, interpolation='nearest', cmap=cmap)\n",
    "        ax.figure.colorbar(im, ax=ax)\n",
    "        # We want to show all ticks...\n",
    "        ax.set(xticks=np.arange(cm.shape[1]),\n",
    "               yticks=np.arange(cm.shape[0]),\n",
    "               # ... and label them with the respective list entries\n",
    "               xticklabels=labels, yticklabels=labels,\n",
    "               title=title,\n",
    "               ylabel='True label',\n",
    "               xlabel='Predicted label')\n",
    "\n",
    "        # Rotate the tick labels and set their alignment.\n",
    "        plt.setp(ax.get_xticklabels(), rotation=45, ha=\"right\",\n",
    "                 rotation_mode=\"anchor\")\n",
    "\n",
    "        # Loop over data dimensions and create text annotations.\n",
    "        fmt = '.2f' if normalize else 'd'\n",
    "        thresh = cm.max() / 2.\n",
    "        for i in range(cm.shape[0]):\n",
    "            for j in range(cm.shape[1]):\n",
    "                ax.text(j, i, format(cm[i, j], fmt),\n",
    "                        ha=\"center\", va=\"center\",\n",
    "                        color=\"white\" if cm[i, j] > thresh else \"black\")\n",
    "        fig.tight_layout()\n",
    "        plt.xlim(-0.5, len(np.unique(y_test))-0.5) # ADD THIS LINE\n",
    "        plt.ylim(len(np.unique(y_test))-0.5, -0.5) # ADD THIS LINE\n",
    "        return ax\n",
    "    \n",
    "    np.set_printoptions(precision=2)\n",
    "\n",
    "    # Plot non-normalized confusion matrix\n",
    "    plot_confusion_matrix(y_test, y_pred, classes=labels,\n",
    "                          title='Confusion matrix, without normalization')\n",
    "\n",
    "    # Plot normalized confusion matrix\n",
    "    plot_confusion_matrix(y_test, y_pred, classes=labels, normalize=True,\n",
    "                          title='Normalized confusion matrix')\n",
    "\n",
    "    plt.show()"
   ]
  },
  {
   "cell_type": "markdown",
   "id": "6530289a",
   "metadata": {},
   "source": [
    "Сразу в глаза бросается один и тот же код для отображения результата. Вынесу его в functions.py. labels буду получать из yaml файла."
   ]
  },
  {
   "cell_type": "code",
   "execution_count": null,
   "id": "b08078e9",
   "metadata": {},
   "outputs": [],
   "source": [
    "from sklearn.pipeline import Pipeline\n",
    "from sklearn.feature_extraction.text import CountVectorizer\n",
    "from sklearn.feature_extraction.text import TfidfTransformer\n",
    "from sklearn.metrics import accuracy_score\n",
    "from sklearn.model_selection import cross_val_score\n",
    "from sklearn.metrics import classification_report\n",
    "from sklearn.linear_model import SGDClassifier\n",
    "from sklearn.naive_bayes import MultinomialNB\n",
    "from sklearn.ensemble import RandomForestClassifier\n",
    "from sklearn.tree import DecisionTreeClassifier\n",
    "from sklearn.linear_model import LogisticRegression\n",
    "\n",
    "def table_and_get_restult(clf: Union[SGDClassifier,\n",
    "                                     MultinomialNB,\n",
    "                                     RandomForestClassifier,\n",
    "                                     DecisionTreeClassifier,\n",
    "                                     LogisticRegression],\n",
    "                          X_train: List[float],\n",
    "                          y_train: List[float],\n",
    "                          X_test: List[float],\n",
    "                          y_test: List[float]) -> List[float]:\n",
    "    svm = Pipeline([('vect', CountVectorizer()), \n",
    "                   ('tfidf', TfidfTransformer()),\n",
    "                   ('clf', clf),\n",
    "                  ])\n",
    "    Gmodel=svm.fit(X_train, y_train)\n",
    "    y_pred = svm.predict(X_test)\n",
    "\n",
    "    accuracy = cross_val_score(Gmodel,X_train,y_train,cv=5,scoring='accuracy')\n",
    "    print(\"Cross val score:\",accuracy)\n",
    "    print(\"Accuracy of Model with Cross Validation is:\",accuracy.mean() * 100)\n",
    "    print('accuracy %s' % accuracy_score(y_pred, y_test, normalize=False))\n",
    "    print('accuracy normalized %s' % accuracy_score(y_pred, y_test))\n",
    "    print(classification_report(y_test, y_pred,target_names=labels))\n",
    "    return y_pred"
   ]
  },
  {
   "cell_type": "markdown",
   "id": "a6676a91",
   "metadata": {},
   "source": [
    "Эту функцию подсчета данных также можно вынести.\n",
    "Забавный факт - автор данного кода перепутал normalize :) и передавал в 'accuracy normalized %s' normalize=False"
   ]
  },
  {
   "cell_type": "markdown",
   "id": "alive-armor",
   "metadata": {},
   "source": [
    "# 3. Press Shift+Enter to get 300k/sec salary\n",
    "\n",
    "Выберите произвольный Google Colab notebook из этого крутого [репозитория](https://github.com/amrzv/awesome-colab-notebooks), запустите и примените к своим данным"
   ]
  },
  {
   "cell_type": "code",
   "execution_count": null,
   "id": "geographic-group",
   "metadata": {},
   "outputs": [],
   "source": []
  }
 ],
 "metadata": {
  "kernelspec": {
   "display_name": "Python 3 (ipykernel)",
   "language": "python",
   "name": "python3"
  },
  "language_info": {
   "codemirror_mode": {
    "name": "ipython",
    "version": 3
   },
   "file_extension": ".py",
   "mimetype": "text/x-python",
   "name": "python",
   "nbconvert_exporter": "python",
   "pygments_lexer": "ipython3",
   "version": "3.8.10"
  }
 },
 "nbformat": 4,
 "nbformat_minor": 5
}
